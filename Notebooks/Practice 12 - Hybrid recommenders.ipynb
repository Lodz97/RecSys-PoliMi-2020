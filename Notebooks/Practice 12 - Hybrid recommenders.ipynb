{
 "cells": [
  {
   "cell_type": "markdown",
   "metadata": {},
   "source": [
    "# Recommender Systems 2018/19\n",
    "\n",
    "### Practice 8 - Hybrid recommenders\n",
    "\n",
    "\n",
    "### The way to go to achieve the best recommendation quality"
   ]
  },
  {
   "cell_type": "markdown",
   "metadata": {},
   "source": [
    "## A few info about hybrids\n",
    "\n",
    "\n",
    "#### There are many different types of hibrids, in this practice we will see the following\n",
    "* Linear combination of item-based models\n",
    "* Linear combination of heterogeneous models\n",
    "* User-wise discrimination\n"
   ]
  },
  {
   "cell_type": "markdown",
   "metadata": {},
   "source": [
    "### Prerequisite: parameter tuning!\n",
    "\n",
    "#### Let's have an example. In the course repo you will find a BayesianSearch object in the ParameterTuning folder. That is a simple wrapper of another library and its purpose is to provide a very simple way to tune some of the most common parameters. To run heavy tuning on more complex problems or with more sofisiticated constraints you may refer to other libraries."
   ]
  },
  {
   "cell_type": "code",
   "execution_count": 1,
   "metadata": {},
   "outputs": [],
   "source": [
    "from urllib.request import urlretrieve\n",
    "import zipfile, os\n",
    "\n",
    "# If file exists, skip the download\n",
    "data_file_path = \"data/Movielens_10M/\"\n",
    "data_file_name = data_file_path + \"movielens_10m.zip\"\n",
    "\n",
    "# If directory does not exist, create\n",
    "if not os.path.exists(data_file_path):\n",
    "    os.makedirs(data_file_path)\n",
    "\n",
    "if not os.path.exists(data_file_name):\n",
    "    urlretrieve (\"http://files.grouplens.org/datasets/movielens/ml-10m.zip\", data_file_name)\n",
    "\n",
    "dataFile = zipfile.ZipFile(data_file_name)\n",
    "URM_path = dataFile.extract(\"ml-10M100K/ratings.dat\", path=\"data/Movielens_10M\")\n",
    "URM_file = open(URM_path, 'r')\n",
    "\n",
    "\n",
    "def rowSplit (rowString):\n",
    "    \n",
    "    split = rowString.split(\"::\")\n",
    "    split[3] = split[3].replace(\"\\n\",\"\")\n",
    "    \n",
    "    split[0] = int(split[0])\n",
    "    split[1] = int(split[1])\n",
    "    split[2] = float(split[2])\n",
    "    split[3] = int(split[3])\n",
    "    \n",
    "    result = tuple(split)\n",
    "    \n",
    "    return result\n",
    "\n",
    "\n",
    "URM_file.seek(0)\n",
    "URM_tuples = []\n",
    "\n",
    "for line in URM_file:\n",
    "   URM_tuples.append(rowSplit (line))\n",
    "\n",
    "userList, itemList, ratingList, timestampList = zip(*URM_tuples)\n",
    "\n",
    "userList = list(userList)\n",
    "itemList = list(itemList)\n",
    "ratingList = list(ratingList)\n",
    "timestampList = list(timestampList)\n",
    "\n",
    "import scipy.sparse as sps\n",
    "\n",
    "URM_all = sps.coo_matrix((ratingList, (userList, itemList)))\n",
    "URM_all = URM_all.tocsr()\n",
    "\n"
   ]
  },
  {
   "cell_type": "code",
   "execution_count": 2,
   "metadata": {},
   "outputs": [
    {
     "name": "stdout",
     "output_type": "stream",
     "text": [
      "Number of items\t 7601, Number of users\t 4009\n",
      "Number of tags\t 16529, Number of item-tag tuples 95580\n",
      "\n",
      "Data example:\n",
      "[15, 20, 20, 20, 20, 20, 20, 20, 20, 20]\n",
      "[4973, 1747, 1747, 2424, 2424, 2424, 2947, 2947, 3033, 3033]\n",
      "['excellent!', 'politics', 'satire', 'chick flick 212', 'hanks', 'ryan', 'action', 'bond', 'spoof', 'star wars']\n"
     ]
    }
   ],
   "source": [
    "ICM_path = dataFile.extract(\"ml-10M100K/tags.dat\", path = \"data/Movielens_10M\")\n",
    "ICM_file = open(ICM_path, 'r')\n",
    "\n",
    "def rowSplit (rowString):\n",
    "    split = rowString.split(\"::\")\n",
    "    split[3] = split[3].replace(\"\\n\",\"\")\n",
    "    \n",
    "    split[0] = int(split[0])\n",
    "    split[1] = int(split[1])\n",
    "    split[2] = str(split[2]) # tag is a string, not a float like the rating\n",
    "    split[3] = int(split[3])\n",
    "    \n",
    "    result = tuple(split)\n",
    "    \n",
    "    return result\n",
    "\n",
    "ICM_file.seek(0)\n",
    "ICM_tuples = []\n",
    "\n",
    "for line in ICM_file:\n",
    "    ICM_tuples.append(rowSplit(line))\n",
    "    \n",
    "userList_icm, itemList_icm, tagList_icm, timestampList_icm = zip(*ICM_tuples)\n",
    "\n",
    "userList_icm = list(userList_icm)\n",
    "itemList_icm = list(itemList_icm)\n",
    "tagList_icm = list(tagList_icm)\n",
    "timestampList_icm = list(timestampList_icm)\n",
    "\n",
    "userList_unique = list(set(userList_icm))\n",
    "itemList_unique = list(set(itemList_icm))\n",
    "tagList_unique = list(set(tagList_icm))\n",
    "\n",
    "numUsers = len(userList_unique)\n",
    "numItems = len(itemList_unique)\n",
    "numTags = len(tagList_unique)\n",
    "\n",
    "\n",
    "print (\"Number of items\\t {}, Number of users\\t {}\".format(numItems, numUsers))\n",
    "print (\"Number of tags\\t {}, Number of item-tag tuples {}\".format(numTags, len(tagList_icm)))\n",
    "\n",
    "print(\"\\nData example:\")\n",
    "print(userList_icm[0:10])\n",
    "print(itemList_icm[0:10])\n",
    "print(tagList_icm[0:10])\n",
    "\n",
    "\n",
    "from sklearn import preprocessing\n",
    "le = preprocessing.LabelEncoder()\n",
    "le.fit(tagList_icm)\n",
    "\n",
    "tagList_icm = le.transform(tagList_icm)\n",
    "\n",
    "import numpy as np\n",
    "\n",
    "ones = np.ones(len(tagList_icm))\n",
    "\n",
    "ICM_all = sps.coo_matrix((ones, (itemList_icm, tagList_icm)), shape=(URM_all.shape[1], tagList_icm.max()+1))\n",
    "ICM_all = ICM_all.tocsr()"
   ]
  },
  {
   "cell_type": "code",
   "execution_count": 3,
   "metadata": {},
   "outputs": [],
   "source": [
    "\n",
    "from Notebooks_utils.data_splitter import train_test_holdout\n",
    "\n",
    "URM_train, URM_test = train_test_holdout(URM_all, train_perc = 0.8)\n",
    "URM_train, URM_validation = train_test_holdout(URM_train, train_perc = 0.9)"
   ]
  },
  {
   "cell_type": "markdown",
   "metadata": {},
   "source": [
    "### Step 1: Import the evaluator objects"
   ]
  },
  {
   "cell_type": "code",
   "execution_count": 4,
   "metadata": {},
   "outputs": [],
   "source": [
    "from Base.Evaluation.Evaluator import EvaluatorHoldout\n",
    "\n",
    "evaluator_validation = EvaluatorHoldout(URM_validation, cutoff_list=[5])\n",
    "evaluator_test = EvaluatorHoldout(URM_test, cutoff_list=[5, 10])\n"
   ]
  },
  {
   "cell_type": "markdown",
   "metadata": {},
   "source": [
    "### Step 2: Create BayesianSearch object"
   ]
  },
  {
   "cell_type": "code",
   "execution_count": 5,
   "metadata": {},
   "outputs": [],
   "source": [
    "from KNN.ItemKNNCFRecommender import ItemKNNCFRecommender\n",
    "from ParameterTuning.SearchBayesianSkopt import SearchBayesianSkopt\n",
    "\n",
    "\n",
    "recommender_class = ItemKNNCFRecommender\n",
    "\n",
    "parameterSearch = SearchBayesianSkopt(recommender_class,\n",
    "                                 evaluator_validation=evaluator_validation,\n",
    "                                 evaluator_test=evaluator_test)\n"
   ]
  },
  {
   "cell_type": "markdown",
   "metadata": {},
   "source": [
    "### Step 3: Define parameters range"
   ]
  },
  {
   "cell_type": "code",
   "execution_count": 6,
   "metadata": {},
   "outputs": [],
   "source": [
    "from ParameterTuning.SearchAbstractClass import SearchInputRecommenderArgs\n",
    "from skopt.space import Real, Integer, Categorical\n",
    "\n",
    "hyperparameters_range_dictionary = {}\n",
    "hyperparameters_range_dictionary[\"topK\"] = Integer(5, 1000)\n",
    "hyperparameters_range_dictionary[\"shrink\"] = Integer(0, 1000)\n",
    "hyperparameters_range_dictionary[\"similarity\"] = Categorical([\"cosine\"])\n",
    "hyperparameters_range_dictionary[\"normalize\"] = Categorical([True, False])\n",
    "    \n",
    "    \n",
    "recommender_input_args = SearchInputRecommenderArgs(\n",
    "    CONSTRUCTOR_POSITIONAL_ARGS = [URM_train],\n",
    "    CONSTRUCTOR_KEYWORD_ARGS = {},\n",
    "    FIT_POSITIONAL_ARGS = [],\n",
    "    FIT_KEYWORD_ARGS = {}\n",
    ")\n",
    "\n",
    "\n",
    "output_folder_path = \"result_experiments/\"\n",
    "\n",
    "import os\n",
    "\n",
    "# If directory does not exist, create\n",
    "if not os.path.exists(output_folder_path):\n",
    "    os.makedirs(output_folder_path)\n",
    "    "
   ]
  },
  {
   "cell_type": "markdown",
   "metadata": {},
   "source": [
    "### Step 4: Run!"
   ]
  },
  {
   "cell_type": "code",
   "execution_count": 7,
   "metadata": {},
   "outputs": [
    {
     "name": "stdout",
     "output_type": "stream",
     "text": [
      "Iteration No: 1 started. Evaluating function at random point.\n",
      "ItemKNNCFRecommender: URM Detected 1690 (2.36 %) cold users.\n",
      "ItemKNNCFRecommender: URM Detected 54506 (83.68 %) cold items.\n",
      "SearchBayesianSkopt: Testing config: {'topK': 372, 'shrink': 929, 'similarity': 'cosine', 'normalize': True}\n",
      "Similarity column 65134 ( 100 % ), 2699.88 column/sec, elapsed time 0.40 min\n",
      "EvaluatorHoldout: Processed 22001 ( 32.63% ) in 30.15 sec. Users per second: 730\n",
      "EvaluatorHoldout: Processed 44001 ( 65.26% ) in 1.01 min. Users per second: 727\n",
      "EvaluatorHoldout: Processed 67429 ( 100.00% ) in 1.51 min. Users per second: 747\n",
      "SearchBayesianSkopt: New best config found. Config 0: {'topK': 372, 'shrink': 929, 'similarity': 'cosine', 'normalize': True} - results: ROC_AUC: 0.2609313, PRECISION: 0.1301576, PRECISION_RECALL_MIN_DEN: 0.1602975, RECALL: 0.1022471, MAP: 0.0936119, MRR: 0.2683685, NDCG: 0.1108220, F1: 0.1145264, HIT_RATE: 0.6507882, ARHR: 0.3219221, RMSE: 34.4535587, NOVELTY: 0.0007072, AVERAGE_POPULARITY: 0.5401785, DIVERSITY_MEAN_INTER_LIST: 0.9428105, DIVERSITY_HERFINDAHL: 0.9885593, COVERAGE_ITEM: 0.0231676, COVERAGE_USER: 0.9421669, DIVERSITY_GINI: 0.0834495, SHANNON_ENTROPY: 7.2574088, \n",
      "\n",
      "EvaluatorHoldout: Processed 18001 ( 25.79% ) in 30.08 sec. Users per second: 598\n",
      "EvaluatorHoldout: Processed 37001 ( 53.02% ) in 1.01 min. Users per second: 613\n",
      "EvaluatorHoldout: Processed 56013 ( 80.26% ) in 1.51 min. Users per second: 620\n",
      "EvaluatorHoldout: Processed 69790 ( 100.00% ) in 1.85 min. Users per second: 627\n",
      "SearchBayesianSkopt: Best config evaluated with evaluator_test. Config: {'topK': 372, 'shrink': 929, 'similarity': 'cosine', 'normalize': True} - results:\n",
      "CUTOFF: 5 - ROC_AUC: 0.4331948, PRECISION: 0.3145866, PRECISION_RECALL_MIN_DEN: 0.3215344, RECALL: 0.1045569, MAP: 0.2369435, MRR: 0.5171961, NDCG: 0.1507929, F1: 0.1569496, HIT_RATE: 1.5729331, ARHR: 0.7787513, RMSE: 33.8720544, NOVELTY: 0.0007072, AVERAGE_POPULARITY: 0.5407574, DIVERSITY_MEAN_INTER_LIST: 0.9429085, DIVERSITY_HERFINDAHL: 0.9885790, COVERAGE_ITEM: 0.0237050, COVERAGE_USER: 0.9751565, DIVERSITY_GINI: 0.0821188, SHANNON_ENTROPY: 7.2631997, \n",
      "CUTOFF: 10 - ROC_AUC: 0.4923827, PRECISION: 0.2717567, PRECISION_RECALL_MIN_DEN: 0.3105845, RECALL: 0.1714046, MAP: 0.1943455, MRR: 0.5299385, NDCG: 0.1988277, F1: 0.2102185, HIT_RATE: 2.7175670, ARHR: 0.9283388, RMSE: 33.8720544, NOVELTY: 0.0014272, AVERAGE_POPULARITY: 0.5141004, DIVERSITY_MEAN_INTER_LIST: 0.9159395, DIVERSITY_HERFINDAHL: 0.9915926, COVERAGE_ITEM: 0.0307673, COVERAGE_USER: 0.9751565, DIVERSITY_GINI: 0.0791325, SHANNON_ENTROPY: 7.6270305, \n",
      "\n",
      "\n",
      "DataIO: Json dumps supports only 'str' as dictionary keys. Transforming keys to string, note that this will alter the mapper content.\n",
      "Iteration No: 1 ended. Evaluation done at random point.\n",
      "Time taken: 226.5699\n",
      "Function value obtained: -0.0936\n",
      "Current minimum: -0.0936\n",
      "Iteration No: 2 started. Searching for the next optimal point.\n",
      "ItemKNNCFRecommender: URM Detected 1690 (2.36 %) cold users.\n",
      "ItemKNNCFRecommender: URM Detected 54506 (83.68 %) cold items.\n",
      "SearchBayesianSkopt: Testing config: {'topK': 1000, 'shrink': 0, 'similarity': 'cosine', 'normalize': False}\n",
      "Similarity column 65134 ( 100 % ), 3390.33 column/sec, elapsed time 0.32 min\n",
      "EvaluatorHoldout: Processed 14001 ( 20.76% ) in 31.10 sec. Users per second: 450\n",
      "EvaluatorHoldout: Processed 28001 ( 41.53% ) in 1.03 min. Users per second: 455\n",
      "EvaluatorHoldout: Processed 43001 ( 63.77% ) in 1.56 min. Users per second: 461\n",
      "EvaluatorHoldout: Processed 57911 ( 85.88% ) in 2.06 min. Users per second: 470\n",
      "EvaluatorHoldout: Processed 67429 ( 100.00% ) in 2.43 min. Users per second: 463\n",
      "SearchBayesianSkopt: Config 1 is suboptimal. Config: {'topK': 1000, 'shrink': 0, 'similarity': 'cosine', 'normalize': False} - results: ROC_AUC: 0.1927015, PRECISION: 0.0927909, PRECISION_RECALL_MIN_DEN: 0.1107521, RECALL: 0.0658330, MAP: 0.0626156, MRR: 0.1963270, NDCG: 0.0783264, F1: 0.0770212, HIT_RATE: 0.4639547, ARHR: 0.2283928, RMSE: 6190450.3749915, NOVELTY: 0.0006454, AVERAGE_POPULARITY: 0.8579411, DIVERSITY_MEAN_INTER_LIST: 0.6122636, DIVERSITY_HERFINDAHL: 0.9224509, COVERAGE_ITEM: 0.0016581, COVERAGE_USER: 0.9421669, DIVERSITY_GINI: 0.1260272, SHANNON_ENTROPY: 4.0863984, \n",
      "\n",
      "Iteration No: 2 ended. Search finished for the next optimal point.\n",
      "Time taken: 166.0274\n",
      "Function value obtained: -0.0626\n",
      "Current minimum: -0.0936\n",
      "SearchBayesianSkopt: Search complete. Best config is 0: {'topK': 372, 'shrink': 929, 'similarity': 'cosine', 'normalize': True}\n",
      "\n"
     ]
    }
   ],
   "source": [
    "n_cases = 2\n",
    "metric_to_optimize = \"MAP\"\n",
    "\n",
    "parameterSearch.search(recommender_input_args,\n",
    "                       parameter_search_space = hyperparameters_range_dictionary,\n",
    "                       n_cases = n_cases,\n",
    "                       n_random_starts = 1,\n",
    "                       save_model = \"no\",\n",
    "                       output_folder_path = output_folder_path,\n",
    "                       output_file_name_root = recommender_class.RECOMMENDER_NAME,\n",
    "                       metric_to_optimize = metric_to_optimize\n",
    "                      )"
   ]
  },
  {
   "cell_type": "code",
   "execution_count": 8,
   "metadata": {},
   "outputs": [],
   "source": [
    "from Base.DataIO import DataIO\n",
    "\n",
    "data_loader = DataIO(folder_path = output_folder_path)\n",
    "search_metadata = data_loader.load_data(recommender_class.RECOMMENDER_NAME + \"_metadata.zip\")"
   ]
  },
  {
   "cell_type": "code",
   "execution_count": 9,
   "metadata": {},
   "outputs": [
    {
     "data": {
      "text/plain": [
       "{'algorithm_name_search': 'SearchBayesianSkopt',\n",
       " 'algorithm_name_recommender': 'ItemKNNCFRecommender',\n",
       " 'exception_list': [None, None],\n",
       " 'hyperparameters_list': [{'topK': 372,\n",
       "   'shrink': 929,\n",
       "   'similarity': 'cosine',\n",
       "   'normalize': True},\n",
       "  {'topK': 1000, 'shrink': 0, 'similarity': 'cosine', 'normalize': False}],\n",
       " 'hyperparameters_best': {'topK': 372,\n",
       "  'shrink': 929,\n",
       "  'similarity': 'cosine',\n",
       "  'normalize': True},\n",
       " 'hyperparameters_best_index': 0,\n",
       " 'result_on_validation_list': [{'ROC_AUC': 0.26093125114317756,\n",
       "   'PRECISION': 0.13015764730305202,\n",
       "   'PRECISION_RECALL_MIN_DEN': 0.16029749810912466,\n",
       "   'RECALL': 0.10224708339842922,\n",
       "   'MAP': 0.09361191854477403,\n",
       "   'MRR': 0.2683684566976887,\n",
       "   'NDCG': 0.11082199702296687,\n",
       "   'F1': 0.11452641070230742,\n",
       "   'HIT_RATE': 0.6507882365154459,\n",
       "   'ARHR': 0.3219220711168002,\n",
       "   'RMSE': 34.45355866203858,\n",
       "   'NOVELTY': 0.0007071978295684804,\n",
       "   'AVERAGE_POPULARITY': 0.5401785066876993,\n",
       "   'DIVERSITY_MEAN_INTER_LIST': 0.942810544974015,\n",
       "   'DIVERSITY_HERFINDAHL': 0.9885593125406217,\n",
       "   'COVERAGE_ITEM': 0.023167623668130317,\n",
       "   'COVERAGE_USER': 0.9421668902302706,\n",
       "   'DIVERSITY_GINI': 0.08344948363149504,\n",
       "   'SHANNON_ENTROPY': 7.257408794373904},\n",
       "  {'ROC_AUC': 0.1927014588184111,\n",
       "   'PRECISION': 0.09279093565079867,\n",
       "   'PRECISION_RECALL_MIN_DEN': 0.11075205030473335,\n",
       "   'RECALL': 0.06583295028817097,\n",
       "   'MAP': 0.06261562779614695,\n",
       "   'MRR': 0.19632700074648413,\n",
       "   'NDCG': 0.07832644407919222,\n",
       "   'F1': 0.07702120040410833,\n",
       "   'HIT_RATE': 0.46395467825416364,\n",
       "   'ARHR': 0.22839282801172203,\n",
       "   'RMSE': 6190450.374991473,\n",
       "   'NOVELTY': 0.0006454325829777931,\n",
       "   'AVERAGE_POPULARITY': 0.8579411148589269,\n",
       "   'DIVERSITY_MEAN_INTER_LIST': 0.612263608139589,\n",
       "   'DIVERSITY_HERFINDAHL': 0.9224509056033345,\n",
       "   'COVERAGE_ITEM': 0.0016581201830073388,\n",
       "   'COVERAGE_USER': 0.9421668902302706,\n",
       "   'DIVERSITY_GINI': 0.12602717285636908,\n",
       "   'SHANNON_ENTROPY': 4.086398408044063}],\n",
       " 'result_on_validation_best': {'ROC_AUC': 0.26093125114317756,\n",
       "  'PRECISION': 0.13015764730305202,\n",
       "  'PRECISION_RECALL_MIN_DEN': 0.16029749810912466,\n",
       "  'RECALL': 0.10224708339842922,\n",
       "  'MAP': 0.09361191854477403,\n",
       "  'MRR': 0.2683684566976887,\n",
       "  'NDCG': 0.11082199702296687,\n",
       "  'F1': 0.11452641070230742,\n",
       "  'HIT_RATE': 0.6507882365154459,\n",
       "  'ARHR': 0.3219220711168002,\n",
       "  'RMSE': 34.45355866203858,\n",
       "  'NOVELTY': 0.0007071978295684804,\n",
       "  'AVERAGE_POPULARITY': 0.5401785066876993,\n",
       "  'DIVERSITY_MEAN_INTER_LIST': 0.942810544974015,\n",
       "  'DIVERSITY_HERFINDAHL': 0.9885593125406217,\n",
       "  'COVERAGE_ITEM': 0.023167623668130317,\n",
       "  'COVERAGE_USER': 0.9421668902302706,\n",
       "  'DIVERSITY_GINI': 0.08344948363149504,\n",
       "  'SHANNON_ENTROPY': 7.257408794373904},\n",
       " 'result_on_test_list': [{'5': {'ROC_AUC': 0.4331948225629276,\n",
       "    'PRECISION': 0.31458661699392093,\n",
       "    'PRECISION_RECALL_MIN_DEN': 0.3215343649998318,\n",
       "    'RECALL': 0.10455688411980667,\n",
       "    'MAP': 0.23694348123740935,\n",
       "    'MRR': 0.5171961121459485,\n",
       "    'NDCG': 0.1507928951437875,\n",
       "    'F1': 0.1569495715490082,\n",
       "    'HIT_RATE': 1.5729330849691934,\n",
       "    'ARHR': 0.7787512537612449,\n",
       "    'RMSE': 33.87205436700742,\n",
       "    'NOVELTY': 0.0007071674627661908,\n",
       "    'AVERAGE_POPULARITY': 0.5407573827946658,\n",
       "    'DIVERSITY_MEAN_INTER_LIST': 0.9429085148687527,\n",
       "    'DIVERSITY_HERFINDAHL': 0.9885790008430302,\n",
       "    'COVERAGE_ITEM': 0.023704977431141954,\n",
       "    'COVERAGE_USER': 0.9751564945226917,\n",
       "    'DIVERSITY_GINI': 0.08211884474505346,\n",
       "    'SHANNON_ENTROPY': 7.2631996685651625},\n",
       "   '10': {'ROC_AUC': 0.4923826570414166,\n",
       "    'PRECISION': 0.2717566986674493,\n",
       "    'PRECISION_RECALL_MIN_DEN': 0.310584548429873,\n",
       "    'RECALL': 0.17140455494720958,\n",
       "    'MAP': 0.19434550396049907,\n",
       "    'MRR': 0.5299385059941547,\n",
       "    'NDCG': 0.19882773241434418,\n",
       "    'F1': 0.2102184503229156,\n",
       "    'HIT_RATE': 2.7175669866743086,\n",
       "    'ARHR': 0.9283387520838438,\n",
       "    'RMSE': 33.87205436700742,\n",
       "    'NOVELTY': 0.0014271987991600267,\n",
       "    'AVERAGE_POPULARITY': 0.514100441885289,\n",
       "    'DIVERSITY_MEAN_INTER_LIST': 0.9159395100574905,\n",
       "    'DIVERSITY_HERFINDAHL': 0.9915926385834678,\n",
       "    'COVERAGE_ITEM': 0.03076734117358062,\n",
       "    'COVERAGE_USER': 0.9751564945226917,\n",
       "    'DIVERSITY_GINI': 0.07913248116276153,\n",
       "    'SHANNON_ENTROPY': 7.627030521023843}},\n",
       "  None],\n",
       " 'result_on_test_best': {'5': {'ROC_AUC': 0.4331948225629276,\n",
       "   'PRECISION': 0.31458661699392093,\n",
       "   'PRECISION_RECALL_MIN_DEN': 0.3215343649998318,\n",
       "   'RECALL': 0.10455688411980667,\n",
       "   'MAP': 0.23694348123740935,\n",
       "   'MRR': 0.5171961121459485,\n",
       "   'NDCG': 0.1507928951437875,\n",
       "   'F1': 0.1569495715490082,\n",
       "   'HIT_RATE': 1.5729330849691934,\n",
       "   'ARHR': 0.7787512537612449,\n",
       "   'RMSE': 33.87205436700742,\n",
       "   'NOVELTY': 0.0007071674627661908,\n",
       "   'AVERAGE_POPULARITY': 0.5407573827946658,\n",
       "   'DIVERSITY_MEAN_INTER_LIST': 0.9429085148687527,\n",
       "   'DIVERSITY_HERFINDAHL': 0.9885790008430302,\n",
       "   'COVERAGE_ITEM': 0.023704977431141954,\n",
       "   'COVERAGE_USER': 0.9751564945226917,\n",
       "   'DIVERSITY_GINI': 0.08211884474505346,\n",
       "   'SHANNON_ENTROPY': 7.2631996685651625},\n",
       "  '10': {'ROC_AUC': 0.4923826570414166,\n",
       "   'PRECISION': 0.2717566986674493,\n",
       "   'PRECISION_RECALL_MIN_DEN': 0.310584548429873,\n",
       "   'RECALL': 0.17140455494720958,\n",
       "   'MAP': 0.19434550396049907,\n",
       "   'MRR': 0.5299385059941547,\n",
       "   'NDCG': 0.19882773241434418,\n",
       "   'F1': 0.2102184503229156,\n",
       "   'HIT_RATE': 2.7175669866743086,\n",
       "   'ARHR': 0.9283387520838438,\n",
       "   'RMSE': 33.87205436700742,\n",
       "   'NOVELTY': 0.0014271987991600267,\n",
       "   'AVERAGE_POPULARITY': 0.514100441885289,\n",
       "   'DIVERSITY_MEAN_INTER_LIST': 0.9159395100574905,\n",
       "   'DIVERSITY_HERFINDAHL': 0.9915926385834678,\n",
       "   'COVERAGE_ITEM': 0.03076734117358062,\n",
       "   'COVERAGE_USER': 0.9751564945226917,\n",
       "   'DIVERSITY_GINI': 0.07913248116276153,\n",
       "   'SHANNON_ENTROPY': 7.627030521023843}},\n",
       " 'time_on_train_list': [24.784573793411255, 20.06742262840271],\n",
       " 'time_on_train_total': 44.851996421813965,\n",
       " 'time_on_train_avg': 22.425998210906982,\n",
       " 'time_on_validation_list': [90.32722020149231, 145.7753143310547],\n",
       " 'time_on_validation_total': 236.102534532547,\n",
       " 'time_on_validation_avg': 118.0512672662735,\n",
       " 'time_on_test_list': [111.32338643074036, None],\n",
       " 'time_on_test_total': 111.32338643074036,\n",
       " 'time_on_test_avg': 111.32338643074036,\n",
       " 'result_on_last': None,\n",
       " 'time_on_last_train': None,\n",
       " 'time_on_last_test': None}"
      ]
     },
     "execution_count": 9,
     "metadata": {},
     "output_type": "execute_result"
    }
   ],
   "source": [
    "search_metadata"
   ]
  },
  {
   "cell_type": "code",
   "execution_count": 10,
   "metadata": {},
   "outputs": [
    {
     "data": {
      "text/plain": [
       "{'topK': 372, 'shrink': 929, 'similarity': 'cosine', 'normalize': True}"
      ]
     },
     "execution_count": 10,
     "metadata": {},
     "output_type": "execute_result"
    }
   ],
   "source": [
    "best_parameters = search_metadata[\"hyperparameters_best\"]\n",
    "best_parameters"
   ]
  },
  {
   "cell_type": "markdown",
   "metadata": {},
   "source": [
    "# Linear combination of item-based models\n",
    "\n",
    "#### Let's use an ItemKNNCF with the parameters we just learned and a graph based model"
   ]
  },
  {
   "cell_type": "code",
   "execution_count": 11,
   "metadata": {},
   "outputs": [
    {
     "name": "stdout",
     "output_type": "stream",
     "text": [
      "ItemKNNCFRecommender: URM Detected 1690 (2.36 %) cold users.\n",
      "ItemKNNCFRecommender: URM Detected 54506 (83.68 %) cold items.\n",
      "Similarity column 65134 ( 100 % ), 2705.91 column/sec, elapsed time 0.40 min\n",
      "P3alphaRecommender: URM Detected 1690 (2.36 %) cold users.\n",
      "P3alphaRecommender: URM Detected 54506 (83.68 %) cold items.\n",
      "P3alphaRecommender: Processed 56000 ( 85.98% ) in 1.00 minutes. Rows per second: 932\n"
     ]
    }
   ],
   "source": [
    "itemKNNCF = ItemKNNCFRecommender(URM_train)\n",
    "itemKNNCF.fit(**best_parameters)\n",
    "\n",
    "\n",
    "from GraphBased.P3alphaRecommender import P3alphaRecommender\n",
    "\n",
    "P3alpha = P3alphaRecommender(URM_train)\n",
    "P3alpha.fit()"
   ]
  },
  {
   "cell_type": "code",
   "execution_count": 12,
   "metadata": {},
   "outputs": [
    {
     "data": {
      "text/plain": [
       "<65134x65134 sparse matrix of type '<class 'numpy.float32'>'\n",
       "\twith 3944685 stored elements in Compressed Sparse Row format>"
      ]
     },
     "execution_count": 12,
     "metadata": {},
     "output_type": "execute_result"
    }
   ],
   "source": [
    "itemKNNCF.W_sparse"
   ]
  },
  {
   "cell_type": "code",
   "execution_count": 13,
   "metadata": {},
   "outputs": [
    {
     "data": {
      "text/plain": [
       "<65134x65134 sparse matrix of type '<class 'numpy.float32'>'\n",
       "\twith 189735 stored elements in Compressed Sparse Row format>"
      ]
     },
     "execution_count": 13,
     "metadata": {},
     "output_type": "execute_result"
    }
   ],
   "source": [
    "P3alpha.W_sparse"
   ]
  },
  {
   "cell_type": "markdown",
   "metadata": {},
   "source": [
    "### We may define another Recommender which takes the two matrices as input as well as the weights"
   ]
  },
  {
   "cell_type": "code",
   "execution_count": 14,
   "metadata": {},
   "outputs": [],
   "source": [
    "from Base.Recommender_utils import check_matrix, similarityMatrixTopK\n",
    "from Base.BaseSimilarityMatrixRecommender import BaseItemSimilarityMatrixRecommender\n",
    "\n",
    "\n",
    "class ItemKNNSimilarityHybridRecommender(BaseItemSimilarityMatrixRecommender):\n",
    "    \"\"\" ItemKNNSimilarityHybridRecommender\n",
    "    Hybrid of two similarities S = S1*alpha + S2*(1-alpha)\n",
    "\n",
    "    \"\"\"\n",
    "\n",
    "    RECOMMENDER_NAME = \"ItemKNNSimilarityHybridRecommender\"\n",
    "\n",
    "\n",
    "    def __init__(self, URM_train, Similarity_1, Similarity_2, sparse_weights=True):\n",
    "        super(ItemKNNSimilarityHybridRecommender, self).__init__(URM_train)\n",
    "\n",
    "        if Similarity_1.shape != Similarity_2.shape:\n",
    "            raise ValueError(\"ItemKNNSimilarityHybridRecommender: similarities have different size, S1 is {}, S2 is {}\".format(\n",
    "                Similarity_1.shape, Similarity_2.shape\n",
    "            ))\n",
    "\n",
    "        # CSR is faster during evaluation\n",
    "        self.Similarity_1 = check_matrix(Similarity_1.copy(), 'csr')\n",
    "        self.Similarity_2 = check_matrix(Similarity_2.copy(), 'csr')\n",
    "\n",
    "\n",
    "    def fit(self, topK=100, alpha = 0.5):\n",
    "\n",
    "        self.topK = topK\n",
    "        self.alpha = alpha\n",
    "\n",
    "        W = self.Similarity_1*self.alpha + self.Similarity_2*(1-self.alpha)\n",
    "        self.W_sparse = similarityMatrixTopK(W, k=self.topK).tocsr()\n",
    "       "
   ]
  },
  {
   "cell_type": "code",
   "execution_count": 15,
   "metadata": {},
   "outputs": [
    {
     "name": "stdout",
     "output_type": "stream",
     "text": [
      "ItemKNNSimilarityHybridRecommender: URM Detected 1690 (2.36 %) cold users.\n",
      "ItemKNNSimilarityHybridRecommender: URM Detected 54506 (83.68 %) cold items.\n"
     ]
    }
   ],
   "source": [
    "hybridrecommender = ItemKNNSimilarityHybridRecommender(URM_train, itemKNNCF.W_sparse, P3alpha.W_sparse)\n",
    "hybridrecommender.fit(alpha = 0.5)"
   ]
  },
  {
   "cell_type": "code",
   "execution_count": 16,
   "metadata": {},
   "outputs": [
    {
     "name": "stdout",
     "output_type": "stream",
     "text": [
      "EvaluatorHoldout: Processed 26770 ( 39.70% ) in 30.00 sec. Users per second: 892\n",
      "EvaluatorHoldout: Processed 53001 ( 78.60% ) in 1.00 min. Users per second: 883\n",
      "EvaluatorHoldout: Processed 67429 ( 100.00% ) in 1.25 min. Users per second: 901\n"
     ]
    },
    {
     "data": {
      "text/plain": [
       "({5: {'ROC_AUC': 0.25844097742316596,\n",
       "   'PRECISION': 0.12954960032029972,\n",
       "   'PRECISION_RECALL_MIN_DEN': 0.15954287719923044,\n",
       "   'RECALL': 0.10163474678155263,\n",
       "   'MAP': 0.09262757863827155,\n",
       "   'MRR': 0.2658418484628558,\n",
       "   'NDCG': 0.10899962107978554,\n",
       "   'F1': 0.11390685389616081,\n",
       "   'HIT_RATE': 0.6477480016016848,\n",
       "   'ARHR': 0.31891495746145165,\n",
       "   'RMSE': 8.16615152196382,\n",
       "   'NOVELTY': 0.0007180533267231117,\n",
       "   'AVERAGE_POPULARITY': 0.5069946484560671,\n",
       "   'DIVERSITY_MEAN_INTER_LIST': 0.9582758097443332,\n",
       "   'DIVERSITY_HERFINDAHL': 0.9916523196234288,\n",
       "   'COVERAGE_ITEM': 0.03082875303221052,\n",
       "   'COVERAGE_USER': 0.9421668902302706,\n",
       "   'DIVERSITY_GINI': 0.09231011428122307,\n",
       "   'SHANNON_ENTROPY': 7.768622683668138}},\n",
       " 'CUTOFF: 5 - ROC_AUC: 0.2584410, PRECISION: 0.1295496, PRECISION_RECALL_MIN_DEN: 0.1595429, RECALL: 0.1016347, MAP: 0.0926276, MRR: 0.2658418, NDCG: 0.1089996, F1: 0.1139069, HIT_RATE: 0.6477480, ARHR: 0.3189150, RMSE: 8.1661515, NOVELTY: 0.0007181, AVERAGE_POPULARITY: 0.5069946, DIVERSITY_MEAN_INTER_LIST: 0.9582758, DIVERSITY_HERFINDAHL: 0.9916523, COVERAGE_ITEM: 0.0308288, COVERAGE_USER: 0.9421669, DIVERSITY_GINI: 0.0923101, SHANNON_ENTROPY: 7.7686227, \\n')"
      ]
     },
     "execution_count": 16,
     "metadata": {},
     "output_type": "execute_result"
    }
   ],
   "source": [
    "evaluator_validation.evaluateRecommender(hybridrecommender)"
   ]
  },
  {
   "cell_type": "markdown",
   "metadata": {},
   "source": [
    "### In this case the alpha coefficient is too a parameter to be tuned"
   ]
  },
  {
   "cell_type": "markdown",
   "metadata": {},
   "source": [
    "# Linear combination of predictions\n",
    "\n",
    "#### In case of models with incompatible structure (e.g., ItemKNN with UserKNN or MF) you may ensemble the prediction values"
   ]
  },
  {
   "cell_type": "code",
   "execution_count": 17,
   "metadata": {},
   "outputs": [
    {
     "name": "stdout",
     "output_type": "stream",
     "text": [
      "PureSVDRecommender: URM Detected 1690 (2.36 %) cold users.\n",
      "PureSVDRecommender: URM Detected 54506 (83.68 %) cold items.\n",
      "PureSVDRecommender: Computing SVD decomposition...\n",
      "PureSVDRecommender: Computing SVD decomposition... Done!\n"
     ]
    }
   ],
   "source": [
    "from MatrixFactorization.PureSVDRecommender import PureSVDRecommender\n",
    "\n",
    "pureSVD = PureSVDRecommender(URM_train)\n",
    "pureSVD.fit()\n",
    "\n",
    "user_id = 42\n",
    "\n"
   ]
  },
  {
   "cell_type": "code",
   "execution_count": 18,
   "metadata": {},
   "outputs": [
    {
     "data": {
      "text/plain": [
       "array([[ 0.        , 17.968529  , 19.619734  , ...,  0.        ,\n",
       "         0.        ,  0.18193749]], dtype=float32)"
      ]
     },
     "execution_count": 18,
     "metadata": {},
     "output_type": "execute_result"
    }
   ],
   "source": [
    "item_scores = itemKNNCF._compute_item_score(user_id)\n",
    "item_scores"
   ]
  },
  {
   "cell_type": "code",
   "execution_count": 19,
   "metadata": {},
   "outputs": [
    {
     "data": {
      "text/plain": [
       "array([ 3.0278047e-06,  1.2563415e-01,  3.6480296e-01, ...,\n",
       "        0.0000000e+00,  0.0000000e+00, -6.4620288e-04], dtype=float32)"
      ]
     },
     "execution_count": 19,
     "metadata": {},
     "output_type": "execute_result"
    }
   ],
   "source": [
    "item_scores = pureSVD._compute_item_score(user_id)\n",
    "item_scores"
   ]
  },
  {
   "cell_type": "code",
   "execution_count": 20,
   "metadata": {},
   "outputs": [],
   "source": [
    "\n",
    "class ItemKNNScoresHybridRecommender(BaseItemSimilarityMatrixRecommender):\n",
    "    \"\"\" ItemKNNScoresHybridRecommender\n",
    "    Hybrid of two prediction scores R = R1*alpha + R2*(1-alpha)\n",
    "\n",
    "    \"\"\"\n",
    "\n",
    "    RECOMMENDER_NAME = \"ItemKNNScoresHybridRecommender\"\n",
    "\n",
    "\n",
    "    def __init__(self, URM_train, Recommender_1, Recommender_2):\n",
    "        super(ItemKNNScoresHybridRecommender, self).__init__(URM_train)\n",
    "\n",
    "        self.URM_train = check_matrix(URM_train.copy(), 'csr')\n",
    "        self.Recommender_1 = Recommender_1\n",
    "        self.Recommender_2 = Recommender_2\n",
    "        \n",
    "        \n",
    "    def fit(self, alpha = 0.5):\n",
    "\n",
    "        self.alpha = alpha      \n",
    "\n",
    "\n",
    "    def _compute_item_score(self, user_id_array, items_to_compute):\n",
    "        \n",
    "        item_weights_1 = self.Recommender_1._compute_item_score(user_id_array)\n",
    "        item_weights_2 = self.Recommender_2._compute_item_score(user_id_array)\n",
    "\n",
    "        item_weights = item_weights_1*self.alpha + item_weights_2*(1-self.alpha)\n",
    "\n",
    "        return item_weights\n"
   ]
  },
  {
   "cell_type": "code",
   "execution_count": 21,
   "metadata": {},
   "outputs": [
    {
     "name": "stdout",
     "output_type": "stream",
     "text": [
      "ItemKNNScoresHybridRecommender: URM Detected 1690 (2.36 %) cold users.\n",
      "ItemKNNScoresHybridRecommender: URM Detected 54506 (83.68 %) cold items.\n",
      "EvaluatorHoldout: Processed 16001 ( 23.73% ) in 30.15 sec. Users per second: 531\n",
      "EvaluatorHoldout: Processed 33001 ( 48.94% ) in 1.01 min. Users per second: 544\n",
      "EvaluatorHoldout: Processed 51001 ( 75.64% ) in 1.53 min. Users per second: 555\n",
      "EvaluatorHoldout: Processed 67429 ( 100.00% ) in 1.98 min. Users per second: 566\n"
     ]
    },
    {
     "data": {
      "text/plain": [
       "({5: {'ROC_AUC': 0.26738618892958993,\n",
       "   'PRECISION': 0.133963131590234,\n",
       "   'PRECISION_RECALL_MIN_DEN': 0.16607171988314354,\n",
       "   'RECALL': 0.10696381448850828,\n",
       "   'MAP': 0.09742876045750272,\n",
       "   'MRR': 0.2756170688180902,\n",
       "   'NDCG': 0.11453224271367558,\n",
       "   'F1': 0.11895064283124389,\n",
       "   'HIT_RATE': 0.6698156579513266,\n",
       "   'ARHR': 0.33171508796909205,\n",
       "   'RMSE': 16.05654570915143,\n",
       "   'NOVELTY': 0.0007128295927292377,\n",
       "   'AVERAGE_POPULARITY': 0.5125136734271357,\n",
       "   'DIVERSITY_MEAN_INTER_LIST': 0.9519882207818517,\n",
       "   'DIVERSITY_HERFINDAHL': 0.9903948204804423,\n",
       "   'COVERAGE_ITEM': 0.022415328399914024,\n",
       "   'COVERAGE_USER': 0.9421668902302706,\n",
       "   'DIVERSITY_GINI': 0.09530557703055702,\n",
       "   'SHANNON_ENTROPY': 7.45076882842726}},\n",
       " 'CUTOFF: 5 - ROC_AUC: 0.2673862, PRECISION: 0.1339631, PRECISION_RECALL_MIN_DEN: 0.1660717, RECALL: 0.1069638, MAP: 0.0974288, MRR: 0.2756171, NDCG: 0.1145322, F1: 0.1189506, HIT_RATE: 0.6698157, ARHR: 0.3317151, RMSE: 16.0565457, NOVELTY: 0.0007128, AVERAGE_POPULARITY: 0.5125137, DIVERSITY_MEAN_INTER_LIST: 0.9519882, DIVERSITY_HERFINDAHL: 0.9903948, COVERAGE_ITEM: 0.0224153, COVERAGE_USER: 0.9421669, DIVERSITY_GINI: 0.0953056, SHANNON_ENTROPY: 7.4507688, \\n')"
      ]
     },
     "execution_count": 21,
     "metadata": {},
     "output_type": "execute_result"
    }
   ],
   "source": [
    "hybridrecommender = ItemKNNScoresHybridRecommender(URM_train, itemKNNCF, pureSVD)\n",
    "hybridrecommender.fit(alpha = 0.5)\n",
    "\n",
    "evaluator_validation.evaluateRecommender(hybridrecommender)"
   ]
  },
  {
   "cell_type": "markdown",
   "metadata": {},
   "source": [
    "# User-wise hybrid\n",
    "\n",
    "### Models do not have the same accuracy for different user types. Let's divide the users according to their profile length and then compare the recommendation quality we get from a CF model\n",
    "\n"
   ]
  },
  {
   "cell_type": "code",
   "execution_count": 22,
   "metadata": {},
   "outputs": [],
   "source": [
    "URM_train = sps.csr_matrix(URM_train)\n",
    "\n",
    "profile_length = np.ediff1d(URM_train.indptr)"
   ]
  },
  {
   "cell_type": "markdown",
   "metadata": {},
   "source": [
    "### Let's select a few groups of 5% of the users with the least number of interactions"
   ]
  },
  {
   "cell_type": "code",
   "execution_count": 23,
   "metadata": {},
   "outputs": [
    {
     "data": {
      "text/plain": [
       "3578"
      ]
     },
     "execution_count": 23,
     "metadata": {},
     "output_type": "execute_result"
    }
   ],
   "source": [
    "block_size = int(len(profile_length)*0.05)\n",
    "block_size"
   ]
  },
  {
   "cell_type": "code",
   "execution_count": 24,
   "metadata": {},
   "outputs": [],
   "source": [
    "sorted_users = np.argsort(profile_length)"
   ]
  },
  {
   "cell_type": "code",
   "execution_count": 25,
   "metadata": {},
   "outputs": [
    {
     "name": "stdout",
     "output_type": "stream",
     "text": [
      "Group 0, average p.len 6.75, min 0, max 14\n",
      "Group 1, average p.len 15.49, min 14, max 17\n",
      "Group 2, average p.len 17.78, min 17, max 19\n",
      "Group 3, average p.len 20.11, min 19, max 21\n",
      "Group 4, average p.len 22.86, min 21, max 24\n",
      "Group 5, average p.len 26.06, min 24, max 28\n",
      "Group 6, average p.len 29.79, min 28, max 32\n",
      "Group 7, average p.len 34.05, min 32, max 36\n",
      "Group 8, average p.len 38.96, min 36, max 42\n",
      "Group 9, average p.len 44.80, min 42, max 48\n"
     ]
    }
   ],
   "source": [
    "for group_id in range(0, 10):\n",
    "    \n",
    "    start_pos = group_id*block_size\n",
    "    end_pos = min((group_id+1)*block_size, len(profile_length))\n",
    "    \n",
    "    users_in_group = sorted_users[start_pos:end_pos]\n",
    "    \n",
    "    users_in_group_p_len = profile_length[users_in_group]\n",
    "    \n",
    "    print(\"Group {}, average p.len {:.2f}, min {}, max {}\".format(group_id, \n",
    "        users_in_group_p_len.mean(), users_in_group_p_len.min(), users_in_group_p_len.max()))"
   ]
  },
  {
   "cell_type": "markdown",
   "metadata": {},
   "source": [
    "### Now we plot the recommendation quality of TopPop and ItemKNNCF"
   ]
  },
  {
   "cell_type": "code",
   "execution_count": 26,
   "metadata": {},
   "outputs": [
    {
     "name": "stdout",
     "output_type": "stream",
     "text": [
      "TopPopRecommender: URM Detected 1690 (2.36 %) cold users.\n",
      "TopPopRecommender: URM Detected 54506 (83.68 %) cold items.\n"
     ]
    }
   ],
   "source": [
    "from Base.NonPersonalizedRecommender import TopPop\n",
    "\n",
    "topPop = TopPop(URM_train)\n",
    "topPop.fit()\n"
   ]
  },
  {
   "cell_type": "code",
   "execution_count": 27,
   "metadata": {},
   "outputs": [],
   "source": [
    "from KNN.ItemKNNCBFRecommender import ItemKNNCBFRecommender\n",
    "\n",
    "recommender_class = ItemKNNCBFRecommender\n",
    "\n",
    "parameterSearch = SearchBayesianSkopt(recommender_class,\n",
    "                                 evaluator_validation=evaluator_validation,\n",
    "                                 evaluator_test=evaluator_test)\n"
   ]
  },
  {
   "cell_type": "code",
   "execution_count": 28,
   "metadata": {},
   "outputs": [
    {
     "name": "stdout",
     "output_type": "stream",
     "text": [
      "Iteration No: 1 started. Evaluating function at random point.\n",
      "ItemKNNCBFRecommender: URM Detected 1690 (2.36 %) cold users.\n",
      "ItemKNNCBFRecommender: URM Detected 54506 (83.68 %) cold items.\n",
      "SearchBayesianSkopt: Testing config: {'topK': 614, 'shrink': 397, 'similarity': 'cosine', 'normalize': True}\n",
      "Similarity column 65134 ( 100 % ), 4313.33 column/sec, elapsed time 0.25 min\n",
      "EvaluatorHoldout: Processed 21001 ( 31.15% ) in 30.02 sec. Users per second: 699\n",
      "EvaluatorHoldout: Processed 44001 ( 65.26% ) in 1.00 min. Users per second: 731\n",
      "EvaluatorHoldout: Processed 67429 ( 100.00% ) in 1.49 min. Users per second: 753\n",
      "SearchBayesianSkopt: New best config found. Config 0: {'topK': 614, 'shrink': 397, 'similarity': 'cosine', 'normalize': True} - results: ROC_AUC: 0.1440824, PRECISION: 0.0616115, PRECISION_RECALL_MIN_DEN: 0.0679977, RECALL: 0.0319340, MAP: 0.0405861, MRR: 0.1429237, NDCG: 0.0459257, F1: 0.0420652, HIT_RATE: 0.3080574, ARHR: 0.1620636, RMSE: 3.3472336, NOVELTY: 0.0007346, AVERAGE_POPULARITY: 0.4498192, DIVERSITY_MEAN_INTER_LIST: 0.8858987, DIVERSITY_HERFINDAHL: 0.9771771, COVERAGE_ITEM: 0.0079528, COVERAGE_USER: 0.9421669, DIVERSITY_GINI: 0.1079481, SHANNON_ENTROPY: 6.1500811, \n",
      "\n",
      "EvaluatorHoldout: Processed 19001 ( 27.23% ) in 30.92 sec. Users per second: 614\n",
      "EvaluatorHoldout: Processed 39001 ( 55.88% ) in 1.03 min. Users per second: 631\n",
      "EvaluatorHoldout: Processed 59001 ( 84.54% ) in 1.54 min. Users per second: 639\n",
      "EvaluatorHoldout: Processed 69790 ( 100.00% ) in 1.80 min. Users per second: 645\n",
      "SearchBayesianSkopt: Best config evaluated with evaluator_test. Config: {'topK': 614, 'shrink': 397, 'similarity': 'cosine', 'normalize': True} - results:\n",
      "CUTOFF: 5 - ROC_AUC: 0.2723599, PRECISION: 0.1507895, PRECISION_RECALL_MIN_DEN: 0.1520189, RECALL: 0.0329552, MAP: 0.1067668, MRR: 0.2979524, NDCG: 0.0653732, F1: 0.0540891, HIT_RATE: 0.7539476, ARHR: 0.3960577, RMSE: 3.3978738, NOVELTY: 0.0007350, AVERAGE_POPULARITY: 0.4487900, DIVERSITY_MEAN_INTER_LIST: 0.8871089, DIVERSITY_HERFINDAHL: 0.9774192, COVERAGE_ITEM: 0.0080910, COVERAGE_USER: 0.9751565, DIVERSITY_GINI: 0.1074649, SHANNON_ENTROPY: 6.1675356, \n",
      "CUTOFF: 10 - ROC_AUC: 0.3315149, PRECISION: 0.1260940, PRECISION_RECALL_MIN_DEN: 0.1336965, RECALL: 0.0521904, MAP: 0.0767691, MRR: 0.3115708, NDCG: 0.0830537, F1: 0.0738247, HIT_RATE: 1.2609400, ARHR: 0.4621730, RMSE: 3.3978738, NOVELTY: 0.0014876, AVERAGE_POPULARITY: 0.4206771, DIVERSITY_MEAN_INTER_LIST: 0.8440801, DIVERSITY_HERFINDAHL: 0.9844068, COVERAGE_ITEM: 0.0112691, COVERAGE_USER: 0.9751565, DIVERSITY_GINI: 0.1048819, SHANNON_ENTROPY: 6.6431570, \n",
      "\n",
      "\n",
      "DataIO: Json dumps supports only 'str' as dictionary keys. Transforming keys to string, note that this will alter the mapper content.\n",
      "Iteration No: 1 ended. Evaluation done at random point.\n",
      "Time taken: 213.4181\n",
      "Function value obtained: -0.0406\n",
      "Current minimum: -0.0406\n",
      "Iteration No: 2 started. Searching for the next optimal point.\n",
      "ItemKNNCBFRecommender: URM Detected 1690 (2.36 %) cold users.\n",
      "ItemKNNCBFRecommender: URM Detected 54506 (83.68 %) cold items.\n",
      "SearchBayesianSkopt: Testing config: {'topK': 5, 'shrink': 1000, 'similarity': 'cosine', 'normalize': False}\n",
      "Similarity column 65134 ( 100 % ), 4849.20 column/sec, elapsed time 0.22 min\n",
      "EvaluatorHoldout: Processed 31001 ( 45.98% ) in 30.64 sec. Users per second: 1012\n",
      "EvaluatorHoldout: Processed 62806 ( 93.14% ) in 1.01 min. Users per second: 1036\n",
      "EvaluatorHoldout: Processed 67429 ( 100.00% ) in 1.09 min. Users per second: 1034\n",
      "SearchBayesianSkopt: Config 1 is suboptimal. Config: {'topK': 5, 'shrink': 1000, 'similarity': 'cosine', 'normalize': False} - results: ROC_AUC: 0.1235547, PRECISION: 0.0515209, PRECISION_RECALL_MIN_DEN: 0.0575064, RECALL: 0.0277038, MAP: 0.0333351, MRR: 0.1205503, NDCG: 0.0384028, F1: 0.0360323, HIT_RATE: 0.2576043, ARHR: 0.1345025, RMSE: 3.4270298, NOVELTY: 0.0007554, AVERAGE_POPULARITY: 0.3970305, DIVERSITY_MEAN_INTER_LIST: 0.8910153, DIVERSITY_HERFINDAHL: 0.9782004, COVERAGE_ITEM: 0.0158136, COVERAGE_USER: 0.9421669, DIVERSITY_GINI: 0.0649831, SHANNON_ENTROPY: 6.3260497, \n",
      "\n",
      "Iteration No: 2 ended. Search finished for the next optimal point.\n",
      "Time taken: 79.0413\n",
      "Function value obtained: -0.0333\n",
      "Current minimum: -0.0406\n",
      "SearchBayesianSkopt: Search complete. Best config is 0: {'topK': 614, 'shrink': 397, 'similarity': 'cosine', 'normalize': True}\n",
      "\n"
     ]
    }
   ],
   "source": [
    "hyperparameters_range_dictionary = {}\n",
    "hyperparameters_range_dictionary[\"topK\"] = Integer(5, 1000)\n",
    "hyperparameters_range_dictionary[\"shrink\"] = Integer(0, 1000)\n",
    "hyperparameters_range_dictionary[\"similarity\"] = Categorical([\"cosine\"])\n",
    "hyperparameters_range_dictionary[\"normalize\"] = Categorical([True, False])\n",
    "    \n",
    "    \n",
    "recommender_input_args = SearchInputRecommenderArgs(\n",
    "    CONSTRUCTOR_POSITIONAL_ARGS = [URM_train, ICM_all],\n",
    "    CONSTRUCTOR_KEYWORD_ARGS = {},\n",
    "    FIT_POSITIONAL_ARGS = [],\n",
    "    FIT_KEYWORD_ARGS = {}\n",
    ")\n",
    "\n",
    "\n",
    "output_folder_path = \"result_experiments/\"\n",
    "\n",
    "import os\n",
    "\n",
    "# If directory does not exist, create\n",
    "if not os.path.exists(output_folder_path):\n",
    "    os.makedirs(output_folder_path)\n",
    "    \n",
    "    \n",
    "    \n",
    "n_cases = 2\n",
    "metric_to_optimize = \"MAP\"\n",
    "\n",
    "parameterSearch.search(recommender_input_args,\n",
    "                       parameter_search_space = hyperparameters_range_dictionary,\n",
    "                       n_cases = n_cases,\n",
    "                       n_random_starts = 1,\n",
    "                       save_model = \"no\",\n",
    "                       output_folder_path = output_folder_path,\n",
    "                       output_file_name_root = recommender_class.RECOMMENDER_NAME,\n",
    "                       metric_to_optimize = metric_to_optimize\n",
    "                      )"
   ]
  },
  {
   "cell_type": "code",
   "execution_count": 29,
   "metadata": {},
   "outputs": [
    {
     "data": {
      "text/plain": [
       "{'topK': 614, 'shrink': 397, 'similarity': 'cosine', 'normalize': True}"
      ]
     },
     "execution_count": 29,
     "metadata": {},
     "output_type": "execute_result"
    }
   ],
   "source": [
    "data_loader = DataIO(folder_path = output_folder_path)\n",
    "search_metadata = data_loader.load_data(recommender_class.RECOMMENDER_NAME + \"_metadata.zip\")\n",
    "\n",
    "best_parameters_ItemKNNCBF = search_metadata[\"hyperparameters_best\"]\n",
    "best_parameters_ItemKNNCBF"
   ]
  },
  {
   "cell_type": "code",
   "execution_count": 30,
   "metadata": {},
   "outputs": [
    {
     "name": "stdout",
     "output_type": "stream",
     "text": [
      "ItemKNNCBFRecommender: URM Detected 1690 (2.36 %) cold users.\n",
      "ItemKNNCBFRecommender: URM Detected 54506 (83.68 %) cold items.\n",
      "Similarity column 65134 ( 100 % ), 4162.61 column/sec, elapsed time 0.26 min\n"
     ]
    }
   ],
   "source": [
    "itemKNNCBF = ItemKNNCBFRecommender(URM_train, ICM_all)\n",
    "itemKNNCBF.fit(**best_parameters_ItemKNNCBF)"
   ]
  },
  {
   "cell_type": "code",
   "execution_count": 31,
   "metadata": {},
   "outputs": [
    {
     "data": {
      "text/plain": [
       "<71568x65134 sparse matrix of type '<class 'numpy.float64'>'\n",
       "\twith 7200036 stored elements in Compressed Sparse Row format>"
      ]
     },
     "execution_count": 31,
     "metadata": {},
     "output_type": "execute_result"
    }
   ],
   "source": [
    "URM_train"
   ]
  },
  {
   "cell_type": "code",
   "execution_count": 32,
   "metadata": {},
   "outputs": [
    {
     "name": "stdout",
     "output_type": "stream",
     "text": [
      "Group 0, average p.len 6.75, min 0, max 14\n",
      "EvaluatorHoldout: Ignoring 67990 Users\n",
      "EvaluatorHoldout: Processed 1888 ( 100.00% ) in 2.42 sec. Users per second: 781\n",
      "EvaluatorHoldout: Processed 1888 ( 100.00% ) in 2.52 sec. Users per second: 750\n",
      "EvaluatorHoldout: Processed 1888 ( 100.00% ) in 2.41 sec. Users per second: 785\n",
      "EvaluatorHoldout: Processed 1888 ( 100.00% ) in 2.27 sec. Users per second: 830\n",
      "Group 1, average p.len 15.49, min 14, max 17\n",
      "EvaluatorHoldout: Ignoring 67990 Users\n",
      "EvaluatorHoldout: Processed 3569 ( 100.00% ) in 4.32 sec. Users per second: 825\n",
      "EvaluatorHoldout: Processed 3569 ( 100.00% ) in 4.46 sec. Users per second: 800\n",
      "EvaluatorHoldout: Processed 3569 ( 100.00% ) in 4.27 sec. Users per second: 836\n",
      "EvaluatorHoldout: Processed 3569 ( 100.00% ) in 3.95 sec. Users per second: 903\n",
      "Group 2, average p.len 17.78, min 17, max 19\n",
      "EvaluatorHoldout: Ignoring 67990 Users\n",
      "EvaluatorHoldout: Processed 3560 ( 100.00% ) in 4.22 sec. Users per second: 843\n",
      "EvaluatorHoldout: Processed 3560 ( 100.00% ) in 4.61 sec. Users per second: 773\n",
      "EvaluatorHoldout: Processed 3560 ( 100.00% ) in 4.39 sec. Users per second: 811\n",
      "EvaluatorHoldout: Processed 3560 ( 100.00% ) in 4.18 sec. Users per second: 852\n",
      "Group 3, average p.len 20.11, min 19, max 21\n",
      "EvaluatorHoldout: Ignoring 67990 Users\n",
      "EvaluatorHoldout: Processed 3542 ( 100.00% ) in 4.23 sec. Users per second: 837\n",
      "EvaluatorHoldout: Processed 3542 ( 100.00% ) in 4.28 sec. Users per second: 827\n",
      "EvaluatorHoldout: Processed 3542 ( 100.00% ) in 4.24 sec. Users per second: 835\n",
      "EvaluatorHoldout: Processed 3542 ( 100.00% ) in 3.93 sec. Users per second: 902\n",
      "Group 4, average p.len 22.86, min 21, max 24\n",
      "EvaluatorHoldout: Ignoring 67990 Users\n",
      "EvaluatorHoldout: Processed 3561 ( 100.00% ) in 4.31 sec. Users per second: 825\n",
      "EvaluatorHoldout: Processed 3561 ( 100.00% ) in 4.39 sec. Users per second: 811\n",
      "EvaluatorHoldout: Processed 3561 ( 100.00% ) in 4.40 sec. Users per second: 809\n",
      "EvaluatorHoldout: Processed 3561 ( 100.00% ) in 3.98 sec. Users per second: 894\n",
      "Group 5, average p.len 26.06, min 24, max 28\n",
      "EvaluatorHoldout: Ignoring 67990 Users\n",
      "EvaluatorHoldout: Processed 3571 ( 100.00% ) in 4.93 sec. Users per second: 725\n",
      "EvaluatorHoldout: Processed 3571 ( 100.00% ) in 4.27 sec. Users per second: 836\n",
      "EvaluatorHoldout: Processed 3571 ( 100.00% ) in 4.45 sec. Users per second: 803\n",
      "EvaluatorHoldout: Processed 3571 ( 100.00% ) in 3.84 sec. Users per second: 931\n",
      "Group 6, average p.len 29.79, min 28, max 32\n",
      "EvaluatorHoldout: Ignoring 67990 Users\n",
      "EvaluatorHoldout: Processed 3577 ( 100.00% ) in 4.52 sec. Users per second: 791\n",
      "EvaluatorHoldout: Processed 3577 ( 100.00% ) in 4.31 sec. Users per second: 831\n",
      "EvaluatorHoldout: Processed 3577 ( 100.00% ) in 4.61 sec. Users per second: 776\n",
      "EvaluatorHoldout: Processed 3577 ( 100.00% ) in 3.93 sec. Users per second: 911\n",
      "Group 7, average p.len 34.05, min 32, max 36\n",
      "EvaluatorHoldout: Ignoring 67990 Users\n",
      "EvaluatorHoldout: Processed 3578 ( 100.00% ) in 4.50 sec. Users per second: 795\n",
      "EvaluatorHoldout: Processed 3578 ( 100.00% ) in 4.40 sec. Users per second: 812\n",
      "EvaluatorHoldout: Processed 3578 ( 100.00% ) in 4.54 sec. Users per second: 788\n",
      "EvaluatorHoldout: Processed 3578 ( 100.00% ) in 3.90 sec. Users per second: 917\n",
      "Group 8, average p.len 38.96, min 36, max 42\n",
      "EvaluatorHoldout: Ignoring 67990 Users\n",
      "EvaluatorHoldout: Processed 3578 ( 100.00% ) in 4.63 sec. Users per second: 773\n",
      "EvaluatorHoldout: Processed 3578 ( 100.00% ) in 4.38 sec. Users per second: 817\n",
      "EvaluatorHoldout: Processed 3578 ( 100.00% ) in 4.77 sec. Users per second: 750\n",
      "EvaluatorHoldout: Processed 3578 ( 100.00% ) in 4.00 sec. Users per second: 895\n",
      "Group 9, average p.len 44.80, min 42, max 48\n",
      "EvaluatorHoldout: Ignoring 67990 Users\n",
      "EvaluatorHoldout: Processed 3578 ( 100.00% ) in 4.72 sec. Users per second: 757\n",
      "EvaluatorHoldout: Processed 3578 ( 100.00% ) in 4.42 sec. Users per second: 810\n",
      "EvaluatorHoldout: Processed 3578 ( 100.00% ) in 4.70 sec. Users per second: 762\n",
      "EvaluatorHoldout: Processed 3578 ( 100.00% ) in 4.10 sec. Users per second: 872\n"
     ]
    }
   ],
   "source": [
    "\n",
    "MAP_itemKNNCF_per_group = []\n",
    "MAP_itemKNNCBF_per_group = []\n",
    "MAP_pureSVD_per_group = []\n",
    "MAP_topPop_per_group = []\n",
    "cutoff = 10\n",
    "\n",
    "for group_id in range(0, 10):\n",
    "    \n",
    "    start_pos = group_id*block_size\n",
    "    end_pos = min((group_id+1)*block_size, len(profile_length))\n",
    "    \n",
    "    users_in_group = sorted_users[start_pos:end_pos]\n",
    "    \n",
    "    users_in_group_p_len = profile_length[users_in_group]\n",
    "    \n",
    "    print(\"Group {}, average p.len {:.2f}, min {}, max {}\".format(group_id, \n",
    "        users_in_group_p_len.mean(), users_in_group_p_len.min(), users_in_group_p_len.max()))\n",
    "    \n",
    "    \n",
    "    users_not_in_group_flag = np.isin(sorted_users, users_in_group, invert = True)\n",
    "    users_not_in_group = sorted_users[users_not_in_group_flag]\n",
    "    \n",
    "    evaluator_test = EvaluatorHoldout(URM_test, cutoff_list=[cutoff], ignore_users = users_not_in_group)\n",
    "    \n",
    "    \n",
    "    results, _ = evaluator_test.evaluateRecommender(itemKNNCF)\n",
    "    MAP_itemKNNCF_per_group.append(results[cutoff][\"MAP\"])\n",
    " \n",
    "    results, _ = evaluator_test.evaluateRecommender(pureSVD)\n",
    "    MAP_pureSVD_per_group.append(results[cutoff][\"MAP\"])\n",
    "\n",
    "    results, _ = evaluator_test.evaluateRecommender(itemKNNCBF)\n",
    "    MAP_itemKNNCBF_per_group.append(results[cutoff][\"MAP\"])\n",
    "\n",
    "    results, _ = evaluator_test.evaluateRecommender(topPop)\n",
    "    MAP_topPop_per_group.append(results[cutoff][\"MAP\"])\n",
    "\n",
    "    \n",
    "    "
   ]
  },
  {
   "cell_type": "code",
   "execution_count": 33,
   "metadata": {},
   "outputs": [
    {
     "data": {
      "image/png": "[encoded data removed]",
      "text/plain": [
       "<Figure size 432x288 with 1 Axes>"
      ]
     },
     "metadata": {
      "needs_background": "light"
     },
     "output_type": "display_data"
    }
   ],
   "source": [
    "import matplotlib.pyplot as pyplot\n",
    "%matplotlib inline  \n",
    "\n",
    "pyplot.plot(MAP_itemKNNCF_per_group, label=\"itemKNNCF\")\n",
    "pyplot.plot(MAP_itemKNNCBF_per_group, label=\"itemKNNCBF\")\n",
    "pyplot.plot(MAP_pureSVD_per_group, label=\"pureSVD\")\n",
    "pyplot.plot(MAP_topPop_per_group, label=\"topPop\")\n",
    "pyplot.ylabel('MAP')\n",
    "pyplot.xlabel('User Group')\n",
    "pyplot.legend()\n",
    "pyplot.show()"
   ]
  },
  {
   "cell_type": "markdown",
   "metadata": {},
   "source": [
    "### The recommendation quality of the three algorithms changes depending on the user profile length\n",
    "\n",
    "## Tip:\n",
    "### If an algorithm works best on average, it does not imply it will work best for ALL user types"
   ]
  },
  {
   "cell_type": "code",
   "execution_count": null,
   "metadata": {},
   "outputs": [],
   "source": []
  }
 ],
 "metadata": {
  "kernelspec": {
   "display_name": "Python 3",
   "language": "python",
   "name": "python3"
  },
  "language_info": {
   "codemirror_mode": {
    "name": "ipython",
    "version": 3
   },
   "file_extension": ".py",
   "mimetype": "text/x-python",
   "name": "python",
   "nbconvert_exporter": "python",
   "pygments_lexer": "ipython3",
   "version": "3.6.8"
  }
 },
 "nbformat": 4,
 "nbformat_minor": 2
}
