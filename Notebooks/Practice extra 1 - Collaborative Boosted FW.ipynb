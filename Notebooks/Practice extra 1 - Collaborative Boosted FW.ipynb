{
 "cells": [
  {
   "cell_type": "markdown",
   "metadata": {},
   "source": [
    "# Recommender Systems 2018/19\n",
    "\n",
    "### Practice 9 - Collaborative Boosted FW\n",
    "\n",
    "\n",
    "### Underlying idea... the way to capture the feature importance from the user point of view, is to... use its point of view (e.g., ratings, collaborative similarity)"
   ]
  },
  {
   "cell_type": "markdown",
   "metadata": {},
   "source": [
    "## A few info about feature weightign techniques\n",
    "\n",
    "* Information retrieval methods (TF-IDF, BM25..) do not optimize a predictive model\n",
    "* Embedding methods (FISM, UFSM, Factorization Machines) optimize everything at the same time, model and weights, but are difficult to train and sensitive to noise\n",
    "* Wrapper methods (LFW, CFW) apply a two step approach approximating an already built collaborative model, more robust and easier to tune\n"
   ]
  },
  {
   "cell_type": "code",
   "execution_count": 1,
   "metadata": {},
   "outputs": [],
   "source": [
    "from urllib.request import urlretrieve\n",
    "import zipfile, os\n",
    "\n",
    "# If file exists, skip the download\n",
    "data_file_path = \"data/Movielens_10M/\"\n",
    "data_file_name = data_file_path + \"movielens_10m.zip\"\n",
    "\n",
    "# If directory does not exist, create\n",
    "if not os.path.exists(data_file_path):\n",
    "    os.makedirs(data_file_path)\n",
    "\n",
    "if not os.path.exists(data_file_name):\n",
    "    urlretrieve (\"http://files.grouplens.org/datasets/movielens/ml-10m.zip\", data_file_name)\n",
    "\n",
    "dataFile = zipfile.ZipFile(data_file_name)\n",
    "URM_path = dataFile.extract(\"ml-10M100K/ratings.dat\", path=\"data/Movielens_10M\")\n",
    "URM_file = open(URM_path, 'r')\n",
    "\n",
    "\n",
    "def rowSplit (rowString):\n",
    "    \n",
    "    split = rowString.split(\"::\")\n",
    "    split[3] = split[3].replace(\"\\n\",\"\")\n",
    "    \n",
    "    split[0] = int(split[0])\n",
    "    split[1] = int(split[1])\n",
    "    split[2] = float(split[2])\n",
    "    split[3] = int(split[3])\n",
    "    \n",
    "    result = tuple(split)\n",
    "    \n",
    "    return result\n",
    "\n",
    "\n",
    "URM_file.seek(0)\n",
    "URM_tuples = []\n",
    "\n",
    "for line in URM_file:\n",
    "   URM_tuples.append(rowSplit (line))\n",
    "\n",
    "userList, itemList, ratingList, timestampList = zip(*URM_tuples)\n",
    "\n",
    "userList = list(userList)\n",
    "itemList = list(itemList)\n",
    "ratingList = list(ratingList)\n",
    "timestampList = list(timestampList)\n",
    "\n",
    "import scipy.sparse as sps\n",
    "\n",
    "URM_all = sps.coo_matrix((ratingList, (userList, itemList)))\n",
    "URM_all = URM_all.tocsr()\n",
    "\n"
   ]
  },
  {
   "cell_type": "code",
   "execution_count": 2,
   "metadata": {},
   "outputs": [
    {
     "name": "stdout",
     "output_type": "stream",
     "text": [
      "Number of items\t 7601, Number of users\t 4009\n",
      "Number of tags\t 16529, Number of item-tag tuples 95580\n",
      "\n",
      "Data example:\n",
      "[15, 20, 20, 20, 20, 20, 20, 20, 20, 20]\n",
      "[4973, 1747, 1747, 2424, 2424, 2424, 2947, 2947, 3033, 3033]\n",
      "['excellent!', 'politics', 'satire', 'chick flick 212', 'hanks', 'ryan', 'action', 'bond', 'spoof', 'star wars']\n"
     ]
    }
   ],
   "source": [
    "ICM_path = dataFile.extract(\"ml-10M100K/tags.dat\", path = \"data/Movielens_10M\")\n",
    "ICM_file = open(ICM_path, 'r')\n",
    "\n",
    "def rowSplit (rowString):\n",
    "    split = rowString.split(\"::\")\n",
    "    split[3] = split[3].replace(\"\\n\",\"\")\n",
    "    \n",
    "    split[0] = int(split[0])\n",
    "    split[1] = int(split[1])\n",
    "    split[2] = str(split[2]) # tag is a string, not a float like the rating\n",
    "    split[3] = int(split[3])\n",
    "    \n",
    "    result = tuple(split)\n",
    "    \n",
    "    return result\n",
    "\n",
    "ICM_file.seek(0)\n",
    "ICM_tuples = []\n",
    "\n",
    "for line in ICM_file:\n",
    "    ICM_tuples.append(rowSplit(line))\n",
    "    \n",
    "userList_icm, itemList_icm, tagList_icm, timestampList_icm = zip(*ICM_tuples)\n",
    "\n",
    "userList_icm = list(userList_icm)\n",
    "itemList_icm = list(itemList_icm)\n",
    "tagList_icm = list(tagList_icm)\n",
    "timestampList_icm = list(timestampList_icm)\n",
    "\n",
    "userList_unique = list(set(userList_icm))\n",
    "itemList_unique = list(set(itemList_icm))\n",
    "tagList_unique = list(set(tagList_icm))\n",
    "\n",
    "numUsers = len(userList_unique)\n",
    "numItems = len(itemList_unique)\n",
    "numTags = len(tagList_unique)\n",
    "\n",
    "\n",
    "print (\"Number of items\\t {}, Number of users\\t {}\".format(numItems, numUsers))\n",
    "print (\"Number of tags\\t {}, Number of item-tag tuples {}\".format(numTags, len(tagList_icm)))\n",
    "\n",
    "print(\"\\nData example:\")\n",
    "print(userList_icm[0:10])\n",
    "print(itemList_icm[0:10])\n",
    "print(tagList_icm[0:10])\n",
    "\n",
    "\n",
    "from sklearn import preprocessing\n",
    "le = preprocessing.LabelEncoder()\n",
    "le.fit(tagList_icm)\n",
    "\n",
    "tagList_icm = le.transform(tagList_icm)\n",
    "\n",
    "import numpy as np\n",
    "\n",
    "ones = np.ones(len(tagList_icm))\n",
    "\n",
    "ICM_all = sps.coo_matrix((ones, (itemList_icm, tagList_icm)), shape=(URM_all.shape[1], tagList_icm.max()+1))\n",
    "ICM_all = ICM_all.tocsr()"
   ]
  },
  {
   "cell_type": "code",
   "execution_count": 3,
   "metadata": {},
   "outputs": [],
   "source": [
    "\n",
    "from Notebooks_utils.data_splitter import train_test_holdout\n",
    "\n",
    "URM_train, URM_test = train_test_holdout(URM_all, train_perc = 0.8)\n",
    "URM_train, URM_validation = train_test_holdout(URM_train, train_perc = 0.9)"
   ]
  },
  {
   "cell_type": "markdown",
   "metadata": {},
   "source": [
    "### To shorten the notebook let's use the parameters we computed the previous time (Warning: not very clean, the data split may be different, also, running BayesianSearch multiple times may result in a different solution)"
   ]
  },
  {
   "cell_type": "code",
   "execution_count": 4,
   "metadata": {},
   "outputs": [],
   "source": [
    "best_params_ItemKNNCF = {'topK': 700, 'shrink': 200, 'similarity': 'cosine', 'normalize': True}\n",
    "best_params_ItemKNNCBF = {'topK': 500, 'shrink': 1000, 'similarity': 'cosine', 'normalize': True}"
   ]
  },
  {
   "cell_type": "markdown",
   "metadata": {},
   "source": [
    "### Step 1: Create the two models, collaborative and content based"
   ]
  },
  {
   "cell_type": "code",
   "execution_count": 5,
   "metadata": {},
   "outputs": [
    {
     "name": "stdout",
     "output_type": "stream",
     "text": [
      "ItemKNNCFRecommender: URM Detected 1690 (2.36 %) cold users.\n",
      "ItemKNNCFRecommender: URM Detected 54497 (83.67 %) cold items.\n",
      "Similarity column 58940 ( 90 % ), 1964.12 column/sec, elapsed time 0.50 min\n",
      "Similarity column 65134 ( 100 % ), 2005.26 column/sec, elapsed time 0.54 min\n",
      "ItemKNNCBFRecommender: URM Detected 1690 (2.36 %) cold users.\n",
      "ItemKNNCBFRecommender: URM Detected 54497 (83.67 %) cold items.\n",
      "Similarity column 65134 ( 100 % ), 4160.16 column/sec, elapsed time 0.26 min\n"
     ]
    }
   ],
   "source": [
    "from KNN.ItemKNNCFRecommender import ItemKNNCFRecommender\n",
    "from KNN.ItemKNNCBFRecommender import ItemKNNCBFRecommender\n",
    "\n",
    "\n",
    "itemKNNCF = ItemKNNCFRecommender(URM_train)\n",
    "itemKNNCF.fit(**best_params_ItemKNNCF)\n",
    "\n",
    "itemKNNCBF = ItemKNNCBFRecommender(URM_train, ICM_all)\n",
    "itemKNNCBF.fit(**best_params_ItemKNNCBF)"
   ]
  },
  {
   "cell_type": "markdown",
   "metadata": {},
   "source": [
    "### Question, how the two similarities differ?"
   ]
  },
  {
   "cell_type": "code",
   "execution_count": 6,
   "metadata": {},
   "outputs": [],
   "source": [
    "W_sparse_CF = itemKNNCF.W_sparse\n",
    "W_sparse_CBF = itemKNNCBF.W_sparse"
   ]
  },
  {
   "cell_type": "markdown",
   "metadata": {},
   "source": [
    "## Let's plt the global similarity distribution "
   ]
  },
  {
   "cell_type": "code",
   "execution_count": 7,
   "metadata": {},
   "outputs": [],
   "source": [
    "W_sparse_CF_sorted = np.sort(W_sparse_CF.data.copy())\n",
    "W_sparse_CBF_sorted = np.sort(W_sparse_CBF.data.copy())"
   ]
  },
  {
   "cell_type": "code",
   "execution_count": 35,
   "metadata": {},
   "outputs": [
    {
     "data": {
      "image/png": "[encoded data removed]",
      "text/plain": [
       "<Figure size 432x288 with 1 Axes>"
      ]
     },
     "metadata": {
      "needs_background": "light"
     },
     "output_type": "display_data"
    }
   ],
   "source": [
    "import numpy as np\n",
    "import matplotlib.pyplot as pyplot\n",
    "\n",
    "\n",
    "pyplot.plot(W_sparse_CF_sorted, label = 'CF')\n",
    "pyplot.plot(W_sparse_CBF_sorted, label = 'CBF')\n",
    "pyplot.ylabel('Similarity cell ')\n",
    "pyplot.xlabel('Similarity value')\n",
    "pyplot.legend()\n",
    "pyplot.show()"
   ]
  },
  {
   "cell_type": "markdown",
   "metadata": {},
   "source": [
    "## Let's now plot the delta for the common values"
   ]
  },
  {
   "cell_type": "code",
   "execution_count": 9,
   "metadata": {},
   "outputs": [],
   "source": [
    "# Get common structure\n",
    "W_sparse_CF_structure = W_sparse_CF.copy()\n",
    "W_sparse_CF_structure.data = np.ones_like(W_sparse_CF_structure.data)\n",
    "\n",
    "W_sparse_CBF_structure = W_sparse_CBF.copy()\n",
    "W_sparse_CBF_structure.data = np.ones_like(W_sparse_CBF_structure.data)\n",
    "\n",
    "W_sparse_common = W_sparse_CF_structure.multiply(W_sparse_CBF_structure)\n",
    "\n",
    "# Get values of both in common structure of CF\n",
    "W_sparse_delta = W_sparse_CBF.copy().multiply(W_sparse_common)\n",
    "W_sparse_delta -= W_sparse_CF.copy().multiply(W_sparse_common)"
   ]
  },
  {
   "cell_type": "code",
   "execution_count": 10,
   "metadata": {},
   "outputs": [],
   "source": [
    "W_sparse_delta_sorted = np.sort(W_sparse_delta.data.copy())"
   ]
  },
  {
   "cell_type": "code",
   "execution_count": 11,
   "metadata": {},
   "outputs": [
    {
     "data": {
      "image/png": "[encoded data removed]",
      "text/plain": [
       "<Figure size 432x288 with 1 Axes>"
      ]
     },
     "metadata": {
      "needs_background": "light"
     },
     "output_type": "display_data"
    }
   ],
   "source": [
    "pyplot.plot(W_sparse_delta_sorted, label = 'delta')\n",
    "pyplot.ylabel('Similarity cell ')\n",
    "pyplot.xlabel('Similarity value')\n",
    "pyplot.legend()\n",
    "pyplot.show()"
   ]
  },
  {
   "cell_type": "code",
   "execution_count": 12,
   "metadata": {},
   "outputs": [
    {
     "name": "stdout",
     "output_type": "stream",
     "text": [
      "W_sparse_CF has 7.41E+06 values and 8.49 % in common with CBF\n",
      "W_sparse_CBF has 2.26E+06 values and 27.84 % in common with CF\n",
      "W_sparse_delta has 6.29E+05 values\n"
     ]
    }
   ],
   "source": [
    "# How many values we have in common?\n",
    "\n",
    "print(\"W_sparse_CF has {:.2E} values and {:.2f} % in common with CBF\".format(W_sparse_CF.nnz, W_sparse_common.nnz/W_sparse_CF.nnz*100))\n",
    "print(\"W_sparse_CBF has {:.2E} values and {:.2f} % in common with CF\".format(W_sparse_CBF.nnz, W_sparse_common.nnz/W_sparse_CBF.nnz*100))\n",
    "\n",
    "print(\"W_sparse_delta has {:.2E} values\".format(W_sparse_delta.nnz))\n"
   ]
  },
  {
   "cell_type": "markdown",
   "metadata": {},
   "source": [
    "## What do we see?\n",
    "## The great majority of similarities are not common... the models are modeling two very different phenomena"
   ]
  },
  {
   "cell_type": "markdown",
   "metadata": {},
   "source": [
    "# Idea: \n",
    "\n",
    "## what if we were to weight features in such a way to approximate as well as possible the collaborative similarity?\n",
    "\n",
    "### Basic model:  $S_{CBF} = ICM \\cdot diag(feature\\_weights) \\cdot ICM^{T}$ \n",
    "\n",
    "\n",
    "### We want  $S_{CBF} = S_{CF}$\n",
    "\n",
    "### Hence we wish to find the weights such that  $S_{CF} = ICM \\cdot diag(feature\\_weights) \\cdot ICM^{T}$ \n",
    "\n",
    "### Now, we can rearrange the equations considering that we need only weights for features the two items have in common... this becomes a regression problem in form Ax = b. In our case A are the common features, x the weights and b the collaborative similarity\n"
   ]
  },
  {
   "cell_type": "markdown",
   "metadata": {},
   "source": [
    "### Since it is a regression problem, we can use an already available solver like linalg in scipy.sparse\n",
    "\n",
    "### It takes as imput two data structures, one is sparse and the other is the target value"
   ]
  },
  {
   "cell_type": "code",
   "execution_count": 13,
   "metadata": {},
   "outputs": [],
   "source": [
    "W_sparse_delta = W_sparse_delta.tocoo()\n",
    "\n",
    "\n",
    "item_index_1 = W_sparse_delta.row[666]\n",
    "item_index_2 = W_sparse_delta.col[666]"
   ]
  },
  {
   "cell_type": "code",
   "execution_count": 14,
   "metadata": {},
   "outputs": [
    {
     "name": "stdout",
     "output_type": "stream",
     "text": [
      "Item indices are 2 and 4571\n"
     ]
    }
   ],
   "source": [
    "print(\"Item indices are {} and {}\".format(item_index_1, item_index_2))"
   ]
  },
  {
   "cell_type": "code",
   "execution_count": 15,
   "metadata": {},
   "outputs": [
    {
     "name": "stdout",
     "output_type": "stream",
     "text": [
      "Collaborative similarity value is 0.17570984363555908\n",
      "Content-based similarity value is 0.022447967901825905\n"
     ]
    }
   ],
   "source": [
    "print(\"Collaborative similarity value is {}\".format(W_sparse_CF[item_index_1, item_index_2]))\n",
    "print(\"Content-based similarity value is {}\".format(W_sparse_CBF[item_index_1, item_index_2]))"
   ]
  },
  {
   "cell_type": "markdown",
   "metadata": {},
   "source": [
    "### Compute the common features"
   ]
  },
  {
   "cell_type": "code",
   "execution_count": 16,
   "metadata": {},
   "outputs": [
    {
     "data": {
      "text/plain": [
       "<1x16529 sparse matrix of type '<class 'numpy.float64'>'\n",
       "\twith 1 stored elements in Compressed Sparse Row format>"
      ]
     },
     "execution_count": 16,
     "metadata": {},
     "output_type": "execute_result"
    }
   ],
   "source": [
    "common_features = ICM_all[item_index_1,:].multiply(ICM_all[item_index_2,:])\n",
    "common_features"
   ]
  },
  {
   "cell_type": "code",
   "execution_count": 17,
   "metadata": {},
   "outputs": [
    {
     "data": {
      "text/plain": [
       "array([15465], dtype=int32)"
      ]
     },
     "execution_count": 17,
     "metadata": {},
     "output_type": "execute_result"
    }
   ],
   "source": [
    "common_features.indices"
   ]
  },
  {
   "cell_type": "markdown",
   "metadata": {},
   "source": [
    "## These items have just a common feature, that is a common scenario\n",
    "\n",
    "### Let's look for items having  a few features in common, say 5"
   ]
  },
  {
   "cell_type": "code",
   "execution_count": 18,
   "metadata": {},
   "outputs": [
    {
     "name": "stdout",
     "output_type": "stream",
     "text": [
      "Item indices are 1 and 50\n",
      "Collaborative similarity value is 0.32827049493789673\n",
      "Content-based similarity value is 0.003887253813445568\n"
     ]
    },
    {
     "data": {
      "text/plain": [
       "array([ 6688,  9727, 10262, 11154, 15951, 16099], dtype=int32)"
      ]
     },
     "execution_count": 18,
     "metadata": {},
     "output_type": "execute_result"
    }
   ],
   "source": [
    "min_common_features = 5\n",
    "\n",
    "for inner_index in range(len(W_sparse_delta.row)):\n",
    "\n",
    "    item_index_1 = W_sparse_delta.row[inner_index]\n",
    "    item_index_2 = W_sparse_delta.col[inner_index]\n",
    "\n",
    "    common_features = ICM_all[item_index_1,:].multiply(ICM_all[item_index_2,:])\n",
    "    \n",
    "    if common_features.nnz >= min_common_features:\n",
    "        \n",
    "        # Bad programming, don't do this at home\n",
    "        break\n",
    "        \n",
    "        \n",
    "\n",
    "print(\"Item indices are {} and {}\".format(item_index_1, item_index_2))\n",
    "\n",
    "print(\"Collaborative similarity value is {}\".format(W_sparse_CF[item_index_1, item_index_2]))\n",
    "print(\"Content-based similarity value is {}\".format(W_sparse_CBF[item_index_1, item_index_2]))\n",
    "    \n",
    "common_features.indices"
   ]
  },
  {
   "cell_type": "code",
   "execution_count": 19,
   "metadata": {},
   "outputs": [],
   "source": [
    "from scipy.sparse import linalg\n",
    "\n",
    "loss_tolerance = 1e-6\n",
    "iteration_limit = 50000\n",
    "damp_coeff=0.0\n",
    "\n",
    "W_sparse_CF_value = W_sparse_CF[item_index_1, item_index_2]"
   ]
  },
  {
   "cell_type": "code",
   "execution_count": 20,
   "metadata": {},
   "outputs": [],
   "source": [
    "linalg_result = linalg.lsqr(common_features, W_sparse_CF_value, show = False, atol=loss_tolerance, btol=loss_tolerance,\n",
    "                  iter_lim = iteration_limit, damp=damp_coeff)"
   ]
  },
  {
   "cell_type": "code",
   "execution_count": 21,
   "metadata": {},
   "outputs": [
    {
     "data": {
      "text/plain": [
       "array([0., 0., 0., ..., 0., 0., 0.])"
      ]
     },
     "execution_count": 21,
     "metadata": {},
     "output_type": "execute_result"
    }
   ],
   "source": [
    "feature_weights = linalg_result[0].copy()\n",
    "feature_weights"
   ]
  },
  {
   "cell_type": "code",
   "execution_count": 22,
   "metadata": {},
   "outputs": [
    {
     "data": {
      "text/plain": [
       "array([0.0364745, 0.0364745, 0.0364745, 0.072949 , 0.0364745, 0.0364745])"
      ]
     },
     "execution_count": 22,
     "metadata": {},
     "output_type": "execute_result"
    }
   ],
   "source": [
    "feature_weights[common_features.indices]"
   ]
  },
  {
   "cell_type": "markdown",
   "metadata": {},
   "source": [
    "### Note that all weights will be zeros except for the features those items have in common, nothing can be learned if a feature is not common\n",
    "\n",
    "### If a dataset has a very sparse ICM, this FW method will struggle"
   ]
  },
  {
   "cell_type": "code",
   "execution_count": 23,
   "metadata": {},
   "outputs": [
    {
     "data": {
      "text/plain": [
       "array([0.32827049])"
      ]
     },
     "execution_count": 23,
     "metadata": {},
     "output_type": "execute_result"
    }
   ],
   "source": [
    "new_CBF_value = common_features.dot(feature_weights)\n",
    "new_CBF_value"
   ]
  },
  {
   "cell_type": "code",
   "execution_count": 24,
   "metadata": {},
   "outputs": [
    {
     "name": "stdout",
     "output_type": "stream",
     "text": [
      "Collaborative similarity value is 0.32827049493789673\n",
      "Content-based similarity value is 0.003887253813445568\n",
      "Weighted Content-based similarity value is 0.32827049493789673\n"
     ]
    }
   ],
   "source": [
    "print(\"Collaborative similarity value is {}\".format(W_sparse_CF[item_index_1, item_index_2]))\n",
    "print(\"Content-based similarity value is {}\".format(W_sparse_CBF[item_index_1, item_index_2]))\n",
    "\n",
    "print(\"Weighted Content-based similarity value is {}\".format(new_CBF_value[0]))"
   ]
  },
  {
   "cell_type": "markdown",
   "metadata": {},
   "source": [
    "### Note that we learned the CF similarity amost exactly...\n",
    "\n",
    "### Warning: 5 common features and 1 similarity value, more parameters than data points, overfitting!\n",
    "\n",
    "### if we want to apply this method to the whole dataset we have to compute the common features of all items having a common similarity value. Whe already know who they are, thanks to W_sparse_delta"
   ]
  },
  {
   "cell_type": "code",
   "execution_count": 25,
   "metadata": {},
   "outputs": [],
   "source": [
    "from FeatureWeighting.CFW_D_Similarity_Linalg import CFW_D_Similarity_Linalg"
   ]
  },
  {
   "cell_type": "code",
   "execution_count": 26,
   "metadata": {},
   "outputs": [
    {
     "name": "stdout",
     "output_type": "stream",
     "text": [
      "CFW_D_Similarity_Linalg: URM Detected 1690 (2.36 %) cold users.\n",
      "CFW_D_Similarity_Linalg: URM Detected 54497 (83.67 %) cold items.\n",
      "CFW_D_Similarity_Linalg: Generating train data\n",
      "Similarity column 65134 ( 100 % ), 8197.86 column/sec, elapsed time 0.13 min\n",
      "CFW_D_Similarity_Linalg: Collaborative S density: 1.75E-03, nonzero cells 7414519\n",
      "CFW_D_Similarity_Linalg: Content S density: 3.72E-04, nonzero cells 1576400\n",
      "CFW_D_Similarity_Linalg: Content S structure has 494341 out of 1576400 ( 31.36%) nonzero collaborative cells\n",
      "CFW_D_Similarity_Linalg: Nonzero collaborative cell sum is: 6.73E+04, average is: 1.36E-01, average over all collaborative data is 8.66E-02\n",
      "Similarity column 65134 ( 100 % ), 8606.05 column/sec, elapsed time 0.13 min\n"
     ]
    }
   ],
   "source": [
    "CFW_weithing = CFW_D_Similarity_Linalg(URM_train, ICM_all, W_sparse_CF)\n",
    "CFW_weithing.fit()"
   ]
  },
  {
   "cell_type": "code",
   "execution_count": 27,
   "metadata": {},
   "outputs": [],
   "source": [
    "from Base.Evaluation.Evaluator import EvaluatorHoldout\n",
    "\n",
    "evaluator_validation = EvaluatorHoldout(URM_validation, cutoff_list=[5])\n",
    "evaluator_test = EvaluatorHoldout(URM_test, cutoff_list=[5])\n"
   ]
  },
  {
   "cell_type": "code",
   "execution_count": 28,
   "metadata": {},
   "outputs": [
    {
     "name": "stdout",
     "output_type": "stream",
     "text": [
      "EvaluatorHoldout: Processed 21001 ( 30.09% ) in 30.93 sec. Users per second: 679\n",
      "EvaluatorHoldout: Processed 42713 ( 61.19% ) in 1.02 min. Users per second: 701\n",
      "EvaluatorHoldout: Processed 64001 ( 91.69% ) in 1.53 min. Users per second: 699\n",
      "EvaluatorHoldout: Processed 69799 ( 100.00% ) in 1.64 min. Users per second: 708\n"
     ]
    },
    {
     "data": {
      "text/plain": [
       "{5: {'ROC_AUC': 0.4364365296541968,\n",
       "  'PRECISION': 0.3118468745971436,\n",
       "  'PRECISION_RECALL_MIN_DEN': 0.31874167251687435,\n",
       "  'RECALL': 0.10426780711327836,\n",
       "  'MAP': 0.2346349199527389,\n",
       "  'MRR': 0.5186292067221493,\n",
       "  'NDCG': 0.15243248464962666,\n",
       "  'F1': 0.15628186746845701,\n",
       "  'HIT_RATE': 1.5592343729852862,\n",
       "  'ARHR': 0.775873818631559,\n",
       "  'RMSE': 41.76490220136474,\n",
       "  'NOVELTY': 0.000701773758518289,\n",
       "  'AVERAGE_POPULARITY': 0.5563869474548924,\n",
       "  'DIVERSITY_MEAN_INTER_LIST': 0.9302546128224348,\n",
       "  'DIVERSITY_HERFINDAHL': 0.9860482570403023,\n",
       "  'COVERAGE_ITEM': 0.021678386096355206,\n",
       "  'COVERAGE_USER': 0.9752822490498547,\n",
       "  'DIVERSITY_GINI': 0.07248708192902546,\n",
       "  'SHANNON_ENTROPY': 6.95882362718298}}"
      ]
     },
     "execution_count": 28,
     "metadata": {},
     "output_type": "execute_result"
    }
   ],
   "source": [
    "results_dict, _ = evaluator_test.evaluateRecommender(itemKNNCF)\n",
    "results_dict"
   ]
  },
  {
   "cell_type": "code",
   "execution_count": 29,
   "metadata": {},
   "outputs": [
    {
     "name": "stdout",
     "output_type": "stream",
     "text": [
      "EvaluatorHoldout: Processed 23001 ( 32.95% ) in 30.58 sec. Users per second: 752\n",
      "EvaluatorHoldout: Processed 47001 ( 67.34% ) in 1.01 min. Users per second: 772\n",
      "EvaluatorHoldout: Processed 69799 ( 100.00% ) in 1.48 min. Users per second: 784\n"
     ]
    },
    {
     "data": {
      "text/plain": [
       "{5: {'ROC_AUC': 0.2759889110159181,\n",
       "  'PRECISION': 0.1537385922434477,\n",
       "  'PRECISION_RECALL_MIN_DEN': 0.15496568718750192,\n",
       "  'RECALL': 0.033535595871933874,\n",
       "  'MAP': 0.10987751734743201,\n",
       "  'MRR': 0.3027469352474093,\n",
       "  'NDCG': 0.06722872449586406,\n",
       "  'F1': 0.05506060767135511,\n",
       "  'HIT_RATE': 0.7686929612172094,\n",
       "  'ARHR': 0.4050062799371437,\n",
       "  'RMSE': 3.1688100420163057,\n",
       "  'NOVELTY': 0.0007259748546601234,\n",
       "  'AVERAGE_POPULARITY': 0.4789066571502367,\n",
       "  'DIVERSITY_MEAN_INTER_LIST': 0.8752132395263442,\n",
       "  'DIVERSITY_HERFINDAHL': 0.975040140095015,\n",
       "  'COVERAGE_ITEM': 0.007308011176958271,\n",
       "  'COVERAGE_USER': 0.9752822490498547,\n",
       "  'DIVERSITY_GINI': 0.10143994482149296,\n",
       "  'SHANNON_ENTROPY': 5.956345692561511}}"
      ]
     },
     "execution_count": 29,
     "metadata": {},
     "output_type": "execute_result"
    }
   ],
   "source": [
    "results_dict, _ = evaluator_test.evaluateRecommender(itemKNNCBF)\n",
    "results_dict"
   ]
  },
  {
   "cell_type": "code",
   "execution_count": 30,
   "metadata": {},
   "outputs": [
    {
     "name": "stdout",
     "output_type": "stream",
     "text": [
      "EvaluatorHoldout: Processed 24001 ( 34.39% ) in 30.83 sec. Users per second: 779\n",
      "EvaluatorHoldout: Processed 48001 ( 68.77% ) in 1.02 min. Users per second: 788\n",
      "EvaluatorHoldout: Processed 69799 ( 100.00% ) in 1.45 min. Users per second: 803\n"
     ]
    },
    {
     "data": {
      "text/plain": [
       "{5: {'ROC_AUC': 0.24912725588236662,\n",
       "  'PRECISION': 0.14954655510824125,\n",
       "  'PRECISION_RECALL_MIN_DEN': 0.15079251374184224,\n",
       "  'RECALL': 0.03237966746280794,\n",
       "  'MAP': 0.10105408227752578,\n",
       "  'MRR': 0.2758869515800296,\n",
       "  'NDCG': 0.06295531728362827,\n",
       "  'F1': 0.05323331245139487,\n",
       "  'HIT_RATE': 0.7477327755411969,\n",
       "  'ARHR': 0.3704432250700819,\n",
       "  'RMSE': 14.969350323440331,\n",
       "  'NOVELTY': 0.0007009003532984399,\n",
       "  'AVERAGE_POPULARITY': 0.562098139201455,\n",
       "  'DIVERSITY_MEAN_INTER_LIST': 0.7353008665222058,\n",
       "  'DIVERSITY_HERFINDAHL': 0.9470580663949825,\n",
       "  'COVERAGE_ITEM': 0.010163662603248688,\n",
       "  'COVERAGE_USER': 0.9752822490498547,\n",
       "  'DIVERSITY_GINI': 0.04455624431774436,\n",
       "  'SHANNON_ENTROPY': 5.051112498039045}}"
      ]
     },
     "execution_count": 30,
     "metadata": {},
     "output_type": "execute_result"
    }
   ],
   "source": [
    "results_dict, _ = evaluator_test.evaluateRecommender(CFW_weithing)\n",
    "results_dict"
   ]
  },
  {
   "cell_type": "markdown",
   "metadata": {},
   "source": [
    "### This algorithm has parameters too:\n",
    "* topK, the usual number of neighbors\n",
    "* add_zeros_quota, the percentage of zero collaborative similarities to add to the train set, this helps the regressor in finding non-relevant features\n",
    "* normalize_similarity, apply or not the usual cosine denominator"
   ]
  },
  {
   "cell_type": "code",
   "execution_count": 31,
   "metadata": {},
   "outputs": [
    {
     "name": "stdout",
     "output_type": "stream",
     "text": [
      "Iteration No: 1 started. Evaluating function at random point.\n",
      "CFW_D_Similarity_Linalg: URM Detected 1690 (2.36 %) cold users.\n",
      "CFW_D_Similarity_Linalg: URM Detected 54497 (83.67 %) cold items.\n",
      "SearchBayesianSkopt: Testing config: {'topK': 369, 'add_zeros_quota': 0.004204312723170457, 'normalize_similarity': True}\n",
      "CFW_D_Similarity_Linalg: Generating train data\n",
      "Similarity column 65134 ( 100 % ), 8501.85 column/sec, elapsed time 0.13 min\n",
      "CFW_D_Similarity_Linalg: Collaborative S density: 1.75E-03, nonzero cells 7414519\n",
      "CFW_D_Similarity_Linalg: Content S density: 4.34E-04, nonzero cells 1842778\n",
      "CFW_D_Similarity_Linalg: Content S structure has 561099 out of 1842778 ( 30.45%) nonzero collaborative cells\n",
      "CFW_D_Similarity_Linalg: Nonzero collaborative cell sum is: 8.47E+06, average is: 1.51E+01, average over all collaborative data is 8.66E-02\n",
      "Similarity column 65134 ( 100 % ), 4337.66 column/sec, elapsed time 0.25 min\n",
      "EvaluatorHoldout: Processed 24001 ( 35.55% ) in 30.30 sec. Users per second: 792\n",
      "EvaluatorHoldout: Processed 49001 ( 72.58% ) in 1.01 min. Users per second: 809\n",
      "EvaluatorHoldout: Processed 67517 ( 100.00% ) in 1.36 min. Users per second: 824\n",
      "SearchBayesianSkopt: New best config found. Config 0: {'topK': 369, 'add_zeros_quota': 0.004204312723170457, 'normalize_similarity': True} - results: ROC_AUC: 0.0063638, PRECISION: 0.0029415, PRECISION_RECALL_MIN_DEN: 0.0032942, RECALL: 0.0016322, MAP: 0.0014371, MRR: 0.0065702, NDCG: 0.0011621, F1: 0.0020995, HIT_RATE: 0.0147074, ARHR: 0.0066489, RMSE: 16.8383475, NOVELTY: 0.0011307, AVERAGE_POPULARITY: 0.0348408, DIVERSITY_MEAN_INTER_LIST: 0.8045802, DIVERSITY_HERFINDAHL: 0.9609137, COVERAGE_ITEM: 0.0128658, COVERAGE_USER: 0.9433965, DIVERSITY_GINI: 0.0496611, SHANNON_ENTROPY: 5.5084888, \n",
      "\n",
      "EvaluatorHoldout: Processed 24001 ( 34.39% ) in 30.11 sec. Users per second: 797\n",
      "EvaluatorHoldout: Processed 49001 ( 70.20% ) in 1.01 min. Users per second: 813\n",
      "EvaluatorHoldout: Processed 69799 ( 100.00% ) in 1.41 min. Users per second: 824\n",
      "SearchBayesianSkopt: Best config evaluated with evaluator_test. Config: {'topK': 369, 'add_zeros_quota': 0.004204312723170457, 'normalize_similarity': True} - results:\n",
      "CUTOFF: 5 - ROC_AUC: 0.0143424, PRECISION: 0.0068282, PRECISION_RECALL_MIN_DEN: 0.0069151, RECALL: 0.0016792, MAP: 0.0031182, MRR: 0.0148569, NDCG: 0.0015778, F1: 0.0026956, HIT_RATE: 0.0341409, ARHR: 0.0151557, RMSE: 16.8817690, NOVELTY: 0.0011304, AVERAGE_POPULARITY: 0.0350256, DIVERSITY_MEAN_INTER_LIST: 0.8057029, DIVERSITY_HERFINDAHL: 0.9611383, COVERAGE_ITEM: 0.0130961, COVERAGE_USER: 0.9752822, DIVERSITY_GINI: 0.0494503, SHANNON_ENTROPY: 5.5214205, \n",
      "\n",
      "\n",
      "DataIO: Json dumps supports only 'str' as dictionary keys. Transforming keys to string, note that this will alter the mapper content.\n",
      "Iteration No: 1 ended. Evaluation done at random point.\n",
      "Time taken: 293.0556\n",
      "Function value obtained: -0.0014\n",
      "Current minimum: -0.0014\n",
      "Iteration No: 2 started. Evaluating function at random point.\n",
      "CFW_D_Similarity_Linalg: URM Detected 1690 (2.36 %) cold users.\n",
      "CFW_D_Similarity_Linalg: URM Detected 54497 (83.67 %) cold items.\n",
      "SearchBayesianSkopt: Testing config: {'topK': 881, 'add_zeros_quota': 0.6778064761073251, 'normalize_similarity': True}\n",
      "CFW_D_Similarity_Linalg: Generating train data\n",
      "Similarity column 65134 ( 100 % ), 8596.98 column/sec, elapsed time 0.13 min\n",
      "CFW_D_Similarity_Linalg: Collaborative S density: 1.75E-03, nonzero cells 7414519\n",
      "CFW_D_Similarity_Linalg: Content S density: 6.98E-04, nonzero cells 2959531\n",
      "CFW_D_Similarity_Linalg: Generating train data. Sample 1751860 ( 99.32 %) \n",
      "CFW_D_Similarity_Linalg: Content S structure has 819785 out of 2959531 ( 27.70%) nonzero collaborative cells\n",
      "CFW_D_Similarity_Linalg: Nonzero collaborative cell sum is: 1.22E+07, average is: 1.49E+01, average over all collaborative data is 8.66E-02\n",
      "Similarity column 65134 ( 100 % ), 4464.45 column/sec, elapsed time 0.24 min\n",
      "EvaluatorHoldout: Processed 22654 ( 33.55% ) in 30.01 sec. Users per second: 755\n",
      "EvaluatorHoldout: Processed 46001 ( 68.13% ) in 1.02 min. Users per second: 754\n",
      "EvaluatorHoldout: Processed 67517 ( 100.00% ) in 1.46 min. Users per second: 770\n",
      "SearchBayesianSkopt: New best config found. Config 1: {'topK': 881, 'add_zeros_quota': 0.6778064761073251, 'normalize_similarity': True} - results: ROC_AUC: 0.0096309, PRECISION: 0.0046862, PRECISION_RECALL_MIN_DEN: 0.0052878, RECALL: 0.0026034, MAP: 0.0022109, MRR: 0.0099923, NDCG: 0.0019371, F1: 0.0033473, HIT_RATE: 0.0234311, ARHR: 0.0101219, RMSE: 20.9243207, NOVELTY: 0.0010600, AVERAGE_POPULARITY: 0.0493440, DIVERSITY_MEAN_INTER_LIST: 0.7470281, DIVERSITY_HERFINDAHL: 0.9494034, COVERAGE_ITEM: 0.0107778, COVERAGE_USER: 0.9433965, DIVERSITY_GINI: 0.0467860, SHANNON_ENTROPY: 5.1258271, \n",
      "\n",
      "EvaluatorHoldout: Processed 22841 ( 32.72% ) in 30.02 sec. Users per second: 761\n",
      "EvaluatorHoldout: Processed 44001 ( 63.04% ) in 1.01 min. Users per second: 726\n",
      "EvaluatorHoldout: Processed 66795 ( 95.70% ) in 1.51 min. Users per second: 737\n",
      "EvaluatorHoldout: Processed 69799 ( 100.00% ) in 1.58 min. Users per second: 737\n",
      "SearchBayesianSkopt: Best config evaluated with evaluator_test. Config: {'topK': 881, 'add_zeros_quota': 0.6778064761073251, 'normalize_similarity': True} - results:\n",
      "CUTOFF: 5 - ROC_AUC: 0.0220789, PRECISION: 0.0109343, PRECISION_RECALL_MIN_DEN: 0.0110482, RECALL: 0.0024907, MAP: 0.0050198, MRR: 0.0230622, NDCG: 0.0024907, F1: 0.0040573, HIT_RATE: 0.0546713, ARHR: 0.0239772, RMSE: 20.8011969, NOVELTY: 0.0010603, AVERAGE_POPULARITY: 0.0494649, DIVERSITY_MEAN_INTER_LIST: 0.7490819, DIVERSITY_HERFINDAHL: 0.9498142, COVERAGE_ITEM: 0.0110695, COVERAGE_USER: 0.9752822, DIVERSITY_GINI: 0.0461791, SHANNON_ENTROPY: 5.1402746, \n",
      "\n",
      "\n",
      "Iteration No: 2 ended. Evaluation done at random point.\n",
      "Time taken: 518.1403\n",
      "Function value obtained: -0.0022\n",
      "Current minimum: -0.0022\n",
      "Iteration No: 3 started. Evaluating function at random point.\n",
      "CFW_D_Similarity_Linalg: URM Detected 1690 (2.36 %) cold users.\n",
      "CFW_D_Similarity_Linalg: URM Detected 54497 (83.67 %) cold items.\n",
      "SearchBayesianSkopt: Testing config: {'topK': 881, 'add_zeros_quota': 0.14597093645753692, 'normalize_similarity': False}\n",
      "CFW_D_Similarity_Linalg: Generating train data\n",
      "Similarity column 65134 ( 100 % ), 7379.72 column/sec, elapsed time 0.15 min\n",
      "CFW_D_Similarity_Linalg: Collaborative S density: 1.75E-03, nonzero cells 7414519\n",
      "CFW_D_Similarity_Linalg: Content S density: 6.98E-04, nonzero cells 2959531\n",
      "CFW_D_Similarity_Linalg: Generating train data. Sample 885197 ( 34.28 %) \n",
      "CFW_D_Similarity_Linalg: Content S structure has 819785 out of 2959531 ( 27.70%) nonzero collaborative cells\n",
      "CFW_D_Similarity_Linalg: Nonzero collaborative cell sum is: 1.13E+05, average is: 1.38E-01, average over all collaborative data is 8.66E-02\n",
      "Similarity column 65134 ( 100 % ), 8650.50 column/sec, elapsed time 0.13 min\n",
      "EvaluatorHoldout: Processed 22001 ( 32.59% ) in 30.70 sec. Users per second: 717\n",
      "EvaluatorHoldout: Processed 45001 ( 66.65% ) in 1.02 min. Users per second: 735\n",
      "EvaluatorHoldout: Processed 67517 ( 100.00% ) in 1.50 min. Users per second: 751\n",
      "SearchBayesianSkopt: New best config found. Config 2: {'topK': 881, 'add_zeros_quota': 0.14597093645753692, 'normalize_similarity': False} - results: ROC_AUC: 0.1210300, PRECISION: 0.0558941, PRECISION_RECALL_MIN_DEN: 0.0621567, RECALL: 0.0295555, MAP: 0.0346145, MRR: 0.1215817, NDCG: 0.0411052, F1: 0.0386656, HIT_RATE: 0.2794704, ARHR: 0.1377964, RMSE: 20.2812851, NOVELTY: 0.0006969, AVERAGE_POPULARITY: 0.5757398, DIVERSITY_MEAN_INTER_LIST: 0.6155671, DIVERSITY_HERFINDAHL: 0.9231116, COVERAGE_ITEM: 0.0063408, COVERAGE_USER: 0.9433965, DIVERSITY_GINI: 0.0419813, SHANNON_ENTROPY: 4.3421389, \n",
      "\n",
      "EvaluatorHoldout: Processed 22001 ( 31.52% ) in 30.70 sec. Users per second: 717\n",
      "EvaluatorHoldout: Processed 45001 ( 64.47% ) in 1.02 min. Users per second: 736\n",
      "EvaluatorHoldout: Processed 68001 ( 97.42% ) in 1.53 min. Users per second: 740\n",
      "EvaluatorHoldout: Processed 69799 ( 100.00% ) in 1.55 min. Users per second: 749\n",
      "SearchBayesianSkopt: Best config evaluated with evaluator_test. Config: {'topK': 881, 'add_zeros_quota': 0.14597093645753692, 'normalize_similarity': False} - results:\n",
      "CUTOFF: 5 - ROC_AUC: 0.2287497, PRECISION: 0.1358243, PRECISION_RECALL_MIN_DEN: 0.1370583, RECALL: 0.0298079, MAP: 0.0898259, MRR: 0.2524628, NDCG: 0.0571728, F1: 0.0488870, HIT_RATE: 0.6791215, ARHR: 0.3335146, RMSE: 20.2651883, NOVELTY: 0.0006969, AVERAGE_POPULARITY: 0.5757025, DIVERSITY_MEAN_INTER_LIST: 0.6157486, DIVERSITY_HERFINDAHL: 0.9231480, COVERAGE_ITEM: 0.0065404, COVERAGE_USER: 0.9752822, DIVERSITY_GINI: 0.0410899, SHANNON_ENTROPY: 4.3502150, \n",
      "\n",
      "\n"
     ]
    },
    {
     "name": "stdout",
     "output_type": "stream",
     "text": [
      "Iteration No: 3 ended. Evaluation done at random point.\n",
      "Time taken: 381.7368\n",
      "Function value obtained: -0.0346\n",
      "Current minimum: -0.0346\n",
      "Iteration No: 4 started. Searching for the next optimal point.\n",
      "CFW_D_Similarity_Linalg: URM Detected 1690 (2.36 %) cold users.\n",
      "CFW_D_Similarity_Linalg: URM Detected 54497 (83.67 %) cold items.\n",
      "SearchBayesianSkopt: Testing config: {'topK': 6, 'add_zeros_quota': 0.9897195531431559, 'normalize_similarity': False}\n",
      "CFW_D_Similarity_Linalg: Generating train data\n",
      "Similarity column 65134 ( 100 % ), 8472.06 column/sec, elapsed time 0.13 min\n",
      "CFW_D_Similarity_Linalg: Collaborative S density: 1.75E-03, nonzero cells 7414519\n",
      "CFW_D_Similarity_Linalg: Content S density: 1.03E-05, nonzero cells 43861\n",
      "CFW_D_Similarity_Linalg: Content S structure has 19863 out of 43861 ( 45.29%) nonzero collaborative cells\n",
      "CFW_D_Similarity_Linalg: Nonzero collaborative cell sum is: 2.91E+03, average is: 1.46E-01, average over all collaborative data is 8.66E-02\n",
      "Similarity column 65134 ( 100 % ), 8579.34 column/sec, elapsed time 0.13 min\n",
      "EvaluatorHoldout: Processed 31001 ( 45.92% ) in 30.62 sec. Users per second: 1012\n",
      "EvaluatorHoldout: Processed 62001 ( 91.83% ) in 1.01 min. Users per second: 1020\n",
      "EvaluatorHoldout: Processed 67517 ( 100.00% ) in 1.13 min. Users per second: 999\n",
      "SearchBayesianSkopt: New best config found. Config 3: {'topK': 6, 'add_zeros_quota': 0.9897195531431559, 'normalize_similarity': False} - results: ROC_AUC: 0.1400462, PRECISION: 0.0619933, PRECISION_RECALL_MIN_DEN: 0.0695622, RECALL: 0.0341185, MAP: 0.0394817, MRR: 0.1378048, NDCG: 0.0460048, F1: 0.0440137, HIT_RATE: 0.3099664, ARHR: 0.1557230, RMSE: 3.1105530, NOVELTY: 0.0007444, AVERAGE_POPULARITY: 0.4184007, DIVERSITY_MEAN_INTER_LIST: 0.9398089, DIVERSITY_HERFINDAHL: 0.9879590, COVERAGE_ITEM: 0.0192833, COVERAGE_USER: 0.9433965, DIVERSITY_GINI: 0.0972948, SHANNON_ENTROPY: 7.2082425, \n",
      "\n",
      "EvaluatorHoldout: Processed 25893 ( 37.10% ) in 30.01 sec. Users per second: 863\n",
      "EvaluatorHoldout: Processed 51001 ( 73.07% ) in 1.02 min. Users per second: 834\n",
      "EvaluatorHoldout: Processed 69120 ( 99.03% ) in 1.52 min. Users per second: 758\n",
      "EvaluatorHoldout: Processed 69799 ( 100.00% ) in 1.52 min. Users per second: 764\n",
      "SearchBayesianSkopt: Best config evaluated with evaluator_test. Config: {'topK': 6, 'add_zeros_quota': 0.9897195531431559, 'normalize_similarity': False} - results:\n",
      "CUTOFF: 5 - ROC_AUC: 0.2609147, PRECISION: 0.1500623, PRECISION_RECALL_MIN_DEN: 0.1514656, RECALL: 0.0341436, MAP: 0.1010833, MRR: 0.2863128, NDCG: 0.0638595, F1: 0.0556298, HIT_RATE: 0.7503116, ARHR: 0.3774369, RMSE: 3.1585388, NOVELTY: 0.0007447, AVERAGE_POPULARITY: 0.4177169, DIVERSITY_MEAN_INTER_LIST: 0.9402218, DIVERSITY_HERFINDAHL: 0.9880417, COVERAGE_ITEM: 0.0198667, COVERAGE_USER: 0.9752822, DIVERSITY_GINI: 0.0955899, SHANNON_ENTROPY: 7.2225703, \n",
      "\n",
      "\n",
      "Iteration No: 4 ended. Search finished for the next optimal point.\n",
      "Time taken: 186.1512\n",
      "Function value obtained: -0.0395\n",
      "Current minimum: -0.0395\n",
      "Iteration No: 5 started. Searching for the next optimal point.\n",
      "CFW_D_Similarity_Linalg: URM Detected 1690 (2.36 %) cold users.\n",
      "CFW_D_Similarity_Linalg: URM Detected 54497 (83.67 %) cold items.\n",
      "SearchBayesianSkopt: Testing config: {'topK': 5, 'add_zeros_quota': 1.0, 'normalize_similarity': False}\n",
      "CFW_D_Similarity_Linalg: Generating train data\n",
      "Similarity column 65134 ( 100 % ), 7443.23 column/sec, elapsed time 0.15 min\n",
      "CFW_D_Similarity_Linalg: Collaborative S density: 1.75E-03, nonzero cells 7414519\n",
      "CFW_D_Similarity_Linalg: Content S density: 8.64E-06, nonzero cells 36670\n",
      "CFW_D_Similarity_Linalg: Content S structure has 16671 out of 36670 ( 45.46%) nonzero collaborative cells\n",
      "CFW_D_Similarity_Linalg: Nonzero collaborative cell sum is: 2.46E+03, average is: 1.47E-01, average over all collaborative data is 8.66E-02\n",
      "Similarity column 65134 ( 100 % ), 8415.42 column/sec, elapsed time 0.13 min\n",
      "EvaluatorHoldout: Processed 31001 ( 45.92% ) in 30.53 sec. Users per second: 1015\n",
      "EvaluatorHoldout: Processed 63001 ( 93.31% ) in 1.01 min. Users per second: 1037\n",
      "EvaluatorHoldout: Processed 67517 ( 100.00% ) in 1.07 min. Users per second: 1049\n",
      "SearchBayesianSkopt: Config 4 is suboptimal. Config: {'topK': 5, 'add_zeros_quota': 1.0, 'normalize_similarity': False} - results: ROC_AUC: 0.1062313, PRECISION: 0.0495490, PRECISION_RECALL_MIN_DEN: 0.0553782, RECALL: 0.0266145, MAP: 0.0289402, MRR: 0.1034182, NDCG: 0.0342867, F1: 0.0346287, HIT_RATE: 0.2477450, ARHR: 0.1152418, RMSE: 3.1634168, NOVELTY: 0.0007559, AVERAGE_POPULARITY: 0.3859688, DIVERSITY_MEAN_INTER_LIST: 0.8903999, DIVERSITY_HERFINDAHL: 0.9780773, COVERAGE_ITEM: 0.0193447, COVERAGE_USER: 0.9433965, DIVERSITY_GINI: 0.0882743, SHANNON_ENTROPY: 6.8619610, \n",
      "\n",
      "Iteration No: 5 ended. Search finished for the next optimal point.\n",
      "Time taken: 91.3507\n",
      "Function value obtained: -0.0289\n",
      "Current minimum: -0.0395\n",
      "Iteration No: 6 started. Searching for the next optimal point.\n",
      "CFW_D_Similarity_Linalg: URM Detected 1690 (2.36 %) cold users.\n",
      "CFW_D_Similarity_Linalg: URM Detected 54497 (83.67 %) cold items.\n",
      "SearchBayesianSkopt: Testing config: {'topK': 995, 'add_zeros_quota': 0.010928029922526396, 'normalize_similarity': False}\n",
      "CFW_D_Similarity_Linalg: Generating train data\n",
      "Similarity column 65134 ( 100 % ), 7758.71 column/sec, elapsed time 0.14 min\n",
      "CFW_D_Similarity_Linalg: Collaborative S density: 1.75E-03, nonzero cells 7414519\n",
      "CFW_D_Similarity_Linalg: Content S density: 7.27E-04, nonzero cells 3083000\n",
      "CFW_D_Similarity_Linalg: Generating train data. Sample 190437 ( 6.24 %) \n",
      "CFW_D_Similarity_Linalg: Generating train data. Sample 791230 ( 25.94 %) \n",
      "CFW_D_Similarity_Linalg: Content S structure has 844348 out of 3083000 ( 27.39%) nonzero collaborative cells\n",
      "CFW_D_Similarity_Linalg: Nonzero collaborative cell sum is: 1.17E+05, average is: 1.38E-01, average over all collaborative data is 8.66E-02\n",
      "Similarity column 65134 ( 100 % ), 8787.52 column/sec, elapsed time 0.12 min\n",
      "EvaluatorHoldout: Processed 22327 ( 33.07% ) in 30.01 sec. Users per second: 744\n",
      "EvaluatorHoldout: Processed 43948 ( 65.09% ) in 1.00 min. Users per second: 732\n",
      "EvaluatorHoldout: Processed 60895 ( 90.19% ) in 1.50 min. Users per second: 676\n",
      "EvaluatorHoldout: Processed 67517 ( 100.00% ) in 1.72 min. Users per second: 653\n",
      "SearchBayesianSkopt: Config 5 is suboptimal. Config: {'topK': 995, 'add_zeros_quota': 0.010928029922526396, 'normalize_similarity': False} - results: ROC_AUC: 0.1213991, PRECISION: 0.0550113, PRECISION_RECALL_MIN_DEN: 0.0610715, RECALL: 0.0289108, MAP: 0.0343548, MRR: 0.1212835, NDCG: 0.0407087, F1: 0.0379023, HIT_RATE: 0.2750567, ARHR: 0.1371919, RMSE: 21.9154556, NOVELTY: 0.0006990, AVERAGE_POPULARITY: 0.5666459, DIVERSITY_MEAN_INTER_LIST: 0.6190616, DIVERSITY_HERFINDAHL: 0.9238105, COVERAGE_ITEM: 0.0064175, COVERAGE_USER: 0.9433965, DIVERSITY_GINI: 0.0418733, SHANNON_ENTROPY: 4.3559479, \n",
      "\n",
      "Iteration No: 6 ended. Search finished for the next optimal point.\n",
      "Time taken: 3643.6829\n",
      "Function value obtained: -0.0344\n",
      "Current minimum: -0.0395\n",
      "Iteration No: 7 started. Searching for the next optimal point.\n",
      "CFW_D_Similarity_Linalg: URM Detected 1690 (2.36 %) cold users.\n",
      "CFW_D_Similarity_Linalg: URM Detected 54497 (83.67 %) cold items.\n",
      "SearchBayesianSkopt: Testing config: {'topK': 1000, 'add_zeros_quota': 1.0, 'normalize_similarity': False}\n",
      "CFW_D_Similarity_Linalg: Generating train data\n",
      "Similarity column 65134 ( 100 % ), 4169.20 column/sec, elapsed time 0.26 min\n",
      "CFW_D_Similarity_Linalg: Collaborative S density: 1.75E-03, nonzero cells 7414519\n",
      "CFW_D_Similarity_Linalg: Content S density: 7.28E-04, nonzero cells 3087872\n",
      "CFW_D_Similarity_Linalg: Generating train data. Sample 831747 ( 53.87 %) \n",
      "CFW_D_Similarity_Linalg: Generating train data. Sample 2655581 ( 172.00 %) \n",
      "CFW_D_Similarity_Linalg: Content S structure has 845325 out of 3087872 ( 27.38%) nonzero collaborative cells\n",
      "CFW_D_Similarity_Linalg: Nonzero collaborative cell sum is: 1.17E+05, average is: 1.38E-01, average over all collaborative data is 8.66E-02\n",
      "Similarity column 65134 ( 100 % ), 8743.95 column/sec, elapsed time 0.12 min\n",
      "EvaluatorHoldout: Processed 21348 ( 31.62% ) in 30.00 sec. Users per second: 712\n",
      "EvaluatorHoldout: Processed 44001 ( 65.17% ) in 1.02 min. Users per second: 721\n"
     ]
    },
    {
     "name": "stdout",
     "output_type": "stream",
     "text": [
      "EvaluatorHoldout: Processed 67517 ( 100.00% ) in 1.51 min. Users per second: 745\n",
      "SearchBayesianSkopt: Config 6 is suboptimal. Config: {'topK': 1000, 'add_zeros_quota': 1.0, 'normalize_similarity': False} - results: ROC_AUC: 0.1239355, PRECISION: 0.0572034, PRECISION_RECALL_MIN_DEN: 0.0638145, RECALL: 0.0308181, MAP: 0.0355151, MRR: 0.1241473, NDCG: 0.0423599, F1: 0.0400562, HIT_RATE: 0.2860169, ARHR: 0.1409129, RMSE: 16.6968168, NOVELTY: 0.0006916, AVERAGE_POPULARITY: 0.5996897, DIVERSITY_MEAN_INTER_LIST: 0.6043739, DIVERSITY_HERFINDAHL: 0.9208730, COVERAGE_ITEM: 0.0058955, COVERAGE_USER: 0.9433965, DIVERSITY_GINI: 0.0419402, SHANNON_ENTROPY: 4.2559947, \n",
      "\n",
      "Iteration No: 7 ended. Search finished for the next optimal point.\n",
      "Time taken: 501.2699\n",
      "Function value obtained: -0.0355\n",
      "Current minimum: -0.0395\n",
      "Iteration No: 8 started. Searching for the next optimal point.\n",
      "CFW_D_Similarity_Linalg: URM Detected 1690 (2.36 %) cold users.\n",
      "CFW_D_Similarity_Linalg: URM Detected 54497 (83.67 %) cold items.\n",
      "SearchBayesianSkopt: Testing config: {'topK': 14, 'add_zeros_quota': 2.9715036417132808e-05, 'normalize_similarity': False}\n",
      "CFW_D_Similarity_Linalg: Generating train data\n",
      "Similarity column 65134 ( 100 % ), 7456.68 column/sec, elapsed time 0.15 min\n",
      "CFW_D_Similarity_Linalg: Collaborative S density: 1.75E-03, nonzero cells 7414519\n",
      "CFW_D_Similarity_Linalg: Content S density: 2.36E-05, nonzero cells 100205\n",
      "CFW_D_Similarity_Linalg: Content S structure has 43582 out of 100205 ( 43.49%) nonzero collaborative cells\n",
      "CFW_D_Similarity_Linalg: Nonzero collaborative cell sum is: 6.28E+03, average is: 1.44E-01, average over all collaborative data is 8.66E-02\n",
      "Similarity column 65134 ( 100 % ), 8439.18 column/sec, elapsed time 0.13 min\n",
      "EvaluatorHoldout: Processed 31001 ( 45.92% ) in 30.25 sec. Users per second: 1025\n",
      "EvaluatorHoldout: Processed 61936 ( 91.73% ) in 1.00 min. Users per second: 1028\n",
      "EvaluatorHoldout: Processed 67517 ( 100.00% ) in 1.09 min. Users per second: 1029\n",
      "SearchBayesianSkopt: New best config found. Config 7: {'topK': 14, 'add_zeros_quota': 2.9715036417132808e-05, 'normalize_similarity': False} - results: ROC_AUC: 0.1447203, PRECISION: 0.0660930, PRECISION_RECALL_MIN_DEN: 0.0733588, RECALL: 0.0348773, MAP: 0.0418684, MRR: 0.1444671, NDCG: 0.0479704, F1: 0.0456598, HIT_RATE: 0.3304649, ARHR: 0.1655129, RMSE: 3.3305290, NOVELTY: 0.0007307, AVERAGE_POPULARITY: 0.4578599, DIVERSITY_MEAN_INTER_LIST: 0.9224521, DIVERSITY_HERFINDAHL: 0.9844877, COVERAGE_ITEM: 0.0205576, COVERAGE_USER: 0.9433965, DIVERSITY_GINI: 0.0783013, SHANNON_ENTROPY: 6.9148082, \n",
      "\n",
      "EvaluatorHoldout: Processed 30440 ( 43.61% ) in 30.01 sec. Users per second: 1014\n",
      "EvaluatorHoldout: Processed 62001 ( 88.83% ) in 1.01 min. Users per second: 1022\n",
      "EvaluatorHoldout: Processed 69799 ( 100.00% ) in 1.15 min. Users per second: 1011\n",
      "SearchBayesianSkopt: Best config evaluated with evaluator_test. Config: {'topK': 14, 'add_zeros_quota': 2.9715036417132808e-05, 'normalize_similarity': False} - results:\n",
      "CUTOFF: 5 - ROC_AUC: 0.2678608, PRECISION: 0.1608247, PRECISION_RECALL_MIN_DEN: 0.1622218, RECALL: 0.0352271, MAP: 0.1113587, MRR: 0.2977731, NDCG: 0.0675634, F1: 0.0577949, HIT_RATE: 0.8041233, ARHR: 0.4041397, RMSE: 3.3931519, NOVELTY: 0.0007311, AVERAGE_POPULARITY: 0.4569957, DIVERSITY_MEAN_INTER_LIST: 0.9230728, DIVERSITY_HERFINDAHL: 0.9846119, COVERAGE_ITEM: 0.0212024, COVERAGE_USER: 0.9752822, DIVERSITY_GINI: 0.0772362, SHANNON_ENTROPY: 6.9339349, \n",
      "\n",
      "\n",
      "Iteration No: 8 ended. Search finished for the next optimal point.\n",
      "Time taken: 163.2377\n",
      "Function value obtained: -0.0419\n",
      "Current minimum: -0.0419\n",
      "Iteration No: 9 started. Searching for the next optimal point.\n",
      "CFW_D_Similarity_Linalg: URM Detected 1690 (2.36 %) cold users.\n",
      "CFW_D_Similarity_Linalg: URM Detected 54497 (83.67 %) cold items.\n",
      "SearchBayesianSkopt: Testing config: {'topK': 5, 'add_zeros_quota': 0.0, 'normalize_similarity': False}\n",
      "CFW_D_Similarity_Linalg: Generating train data\n",
      "Similarity column 65134 ( 100 % ), 8716.11 column/sec, elapsed time 0.12 min\n",
      "CFW_D_Similarity_Linalg: Collaborative S density: 1.75E-03, nonzero cells 7414519\n",
      "CFW_D_Similarity_Linalg: Content S density: 8.64E-06, nonzero cells 36670\n",
      "CFW_D_Similarity_Linalg: Content S structure has 16671 out of 36670 ( 45.46%) nonzero collaborative cells\n",
      "CFW_D_Similarity_Linalg: Nonzero collaborative cell sum is: 2.46E+03, average is: 1.47E-01, average over all collaborative data is 8.66E-02\n",
      "Similarity column 65134 ( 100 % ), 8745.83 column/sec, elapsed time 0.12 min\n",
      "EvaluatorHoldout: Processed 32332 ( 47.89% ) in 30.00 sec. Users per second: 1078\n",
      "EvaluatorHoldout: Processed 66001 ( 97.75% ) in 1.01 min. Users per second: 1093\n",
      "EvaluatorHoldout: Processed 67517 ( 100.00% ) in 1.02 min. Users per second: 1104\n",
      "SearchBayesianSkopt: Config 8 is suboptimal. Config: {'topK': 5, 'add_zeros_quota': 0.0, 'normalize_similarity': False} - results: ROC_AUC: 0.0906364, PRECISION: 0.0396315, PRECISION_RECALL_MIN_DEN: 0.0448336, RECALL: 0.0224199, MAP: 0.0236787, MRR: 0.0876451, NDCG: 0.0280275, F1: 0.0286387, HIT_RATE: 0.1981575, ARHR: 0.0953644, RMSE: 3.1729212, NOVELTY: 0.0007765, AVERAGE_POPULARITY: 0.3361391, DIVERSITY_MEAN_INTER_LIST: 0.9243171, DIVERSITY_HERFINDAHL: 0.9848607, COVERAGE_ITEM: 0.0210643, COVERAGE_USER: 0.9433965, DIVERSITY_GINI: 0.0895316, SHANNON_ENTROPY: 7.1152589, \n",
      "\n",
      "Iteration No: 9 ended. Search finished for the next optimal point.\n",
      "Time taken: 84.5359\n",
      "Function value obtained: -0.0237\n",
      "Current minimum: -0.0419\n",
      "Iteration No: 10 started. Searching for the next optimal point.\n",
      "CFW_D_Similarity_Linalg: URM Detected 1690 (2.36 %) cold users.\n",
      "CFW_D_Similarity_Linalg: URM Detected 54497 (83.67 %) cold items."
     ]
    },
    {
     "name": "stderr",
     "output_type": "stream",
     "text": [
      "C:\\Users\\ferra\\Anaconda3\\envs\\RecSysFramework\\lib\\site-packages\\skopt\\optimizer\\optimizer.py:399: UserWarning: The objective has been evaluated at this point before.\n",
      "  warnings.warn(\"The objective has been evaluated \"\n"
     ]
    },
    {
     "name": "stdout",
     "output_type": "stream",
     "text": [
      "\n",
      "SearchBayesianSkopt: Testing config: {'topK': 1000, 'add_zeros_quota': 1.0, 'normalize_similarity': False}\n",
      "CFW_D_Similarity_Linalg: Generating train data\n",
      "Similarity column 65134 ( 100 % ), 8559.06 column/sec, elapsed time 0.13 min\n",
      "CFW_D_Similarity_Linalg: Collaborative S density: 1.75E-03, nonzero cells 7414519\n",
      "CFW_D_Similarity_Linalg: Content S density: 7.28E-04, nonzero cells 3087872\n",
      "CFW_D_Similarity_Linalg: Generating train data. Sample 2383105 ( 154.35 %) \n",
      "CFW_D_Similarity_Linalg: Content S structure has 845325 out of 3087872 ( 27.38%) nonzero collaborative cells\n",
      "CFW_D_Similarity_Linalg: Nonzero collaborative cell sum is: 1.17E+05, average is: 1.38E-01, average over all collaborative data is 8.66E-02\n",
      "Similarity column 65134 ( 100 % ), 8852.53 column/sec, elapsed time 0.12 min\n",
      "EvaluatorHoldout: Processed 22278 ( 33.00% ) in 30.01 sec. Users per second: 742\n",
      "EvaluatorHoldout: Processed 45001 ( 66.65% ) in 1.00 min. Users per second: 750\n",
      "EvaluatorHoldout: Processed 67517 ( 100.00% ) in 1.47 min. Users per second: 765\n",
      "SearchBayesianSkopt: Config 9 is suboptimal. Config: {'topK': 1000, 'add_zeros_quota': 1.0, 'normalize_similarity': False} - results: ROC_AUC: 0.1239355, PRECISION: 0.0572034, PRECISION_RECALL_MIN_DEN: 0.0638145, RECALL: 0.0308181, MAP: 0.0355151, MRR: 0.1241473, NDCG: 0.0423599, F1: 0.0400562, HIT_RATE: 0.2860169, ARHR: 0.1409129, RMSE: 16.6968168, NOVELTY: 0.0006916, AVERAGE_POPULARITY: 0.5996897, DIVERSITY_MEAN_INTER_LIST: 0.6043739, DIVERSITY_HERFINDAHL: 0.9208730, COVERAGE_ITEM: 0.0058955, COVERAGE_USER: 0.9433965, DIVERSITY_GINI: 0.0419402, SHANNON_ENTROPY: 4.2559947, \n",
      "\n",
      "Iteration No: 10 ended. Search finished for the next optimal point.\n",
      "Time taken: 419.4175\n",
      "Function value obtained: -0.0355\n",
      "Current minimum: -0.0419\n",
      "SearchBayesianSkopt: Search complete. Best config is 7: {'topK': 14, 'add_zeros_quota': 2.9715036417132808e-05, 'normalize_similarity': False}\n",
      "\n",
      "CFW_D_Similarity_Linalg: URM Detected 1690 (2.36 %) cold users.\n",
      "CFW_D_Similarity_Linalg: URM Detected 54483 (83.65 %) cold items.\n",
      "SearchBayesianSkopt: Evaluation with constructor data for final test. Using best config: {'topK': 14, 'add_zeros_quota': 2.9715036417132808e-05, 'normalize_similarity': False}\n",
      "CFW_D_Similarity_Linalg: Generating train data\n",
      "Similarity column 65134 ( 100 % ), 8769.05 column/sec, elapsed time 0.12 min\n",
      "CFW_D_Similarity_Linalg: Collaborative S density: 1.75E-03, nonzero cells 7414519\n",
      "CFW_D_Similarity_Linalg: Content S density: 2.36E-05, nonzero cells 100205\n",
      "CFW_D_Similarity_Linalg: Content S structure has 43582 out of 100205 ( 43.49%) nonzero collaborative cells\n",
      "CFW_D_Similarity_Linalg: Nonzero collaborative cell sum is: 6.28E+03, average is: 1.44E-01, average over all collaborative data is 8.66E-02\n",
      "Similarity column 65134 ( 100 % ), 8785.37 column/sec, elapsed time 0.12 min\n",
      "EvaluatorHoldout: Processed 30001 ( 42.98% ) in 30.62 sec. Users per second: 980\n",
      "EvaluatorHoldout: Processed 60423 ( 86.57% ) in 1.01 min. Users per second: 996\n",
      "EvaluatorHoldout: Processed 69799 ( 100.00% ) in 1.16 min. Users per second: 1002\n",
      "SearchBayesianSkopt: Best config evaluated with evaluator_test with constructor data for final test. Config: {'topK': 14, 'add_zeros_quota': 2.9715036417132808e-05, 'normalize_similarity': False} - results:\n",
      "CUTOFF: 5 - ROC_AUC: 0.2949159, PRECISION: 0.1852319, PRECISION_RECALL_MIN_DEN: 0.1866927, RECALL: 0.0384745, MAP: 0.1385363, MRR: 0.3292084, NDCG: 0.0755637, F1: 0.0637148, HIT_RATE: 0.9261594, ARHR: 0.4716087, RMSE: 3.5084587, NOVELTY: 0.0007314, AVERAGE_POPULARITY: 0.4546151, DIVERSITY_MEAN_INTER_LIST: 0.9219867, DIVERSITY_HERFINDAHL: 0.9843947, COVERAGE_ITEM: 0.0202045, COVERAGE_USER: 0.9752822, DIVERSITY_GINI: 0.0775029, SHANNON_ENTROPY: 6.8867349, \n",
      "\n",
      "\n"
     ]
    }
   ],
   "source": [
    "from ParameterTuning.SearchBayesianSkopt import SearchBayesianSkopt\n",
    "from skopt.space import Real, Integer, Categorical\n",
    "from ParameterTuning.SearchAbstractClass import SearchInputRecommenderArgs\n",
    "\n",
    "\n",
    "recommender_class = CFW_D_Similarity_Linalg\n",
    "\n",
    "parameterSearch = SearchBayesianSkopt(recommender_class,\n",
    "                                 evaluator_validation=evaluator_validation,\n",
    "                                 evaluator_test=evaluator_test)\n",
    "\n",
    "\n",
    "hyperparameters_range_dictionary = {}\n",
    "hyperparameters_range_dictionary[\"topK\"] = Integer(5, 1000)\n",
    "hyperparameters_range_dictionary[\"add_zeros_quota\"] = Real(low = 0, high = 1, prior = 'uniform')\n",
    "hyperparameters_range_dictionary[\"normalize_similarity\"] = Categorical([True, False])\n",
    "\n",
    "\n",
    "recommender_input_args = SearchInputRecommenderArgs(\n",
    "    CONSTRUCTOR_POSITIONAL_ARGS = [URM_train, ICM_all, W_sparse_CF],\n",
    "    CONSTRUCTOR_KEYWORD_ARGS = {},\n",
    "    FIT_POSITIONAL_ARGS = [],\n",
    "    FIT_KEYWORD_ARGS = {}\n",
    ")\n",
    "\n",
    "\n",
    "output_folder_path = \"result_experiments/\"\n",
    "\n",
    "import os\n",
    "\n",
    "# If directory does not exist, create\n",
    "if not os.path.exists(output_folder_path):\n",
    "    os.makedirs(output_folder_path)\n",
    "\n",
    "n_cases = 10\n",
    "metric_to_optimize = \"MAP\"\n",
    "\n",
    "\n",
    "# Clone data structure to perform the fitting with the best hyperparameters on train + validation data\n",
    "recommender_input_args_last_test = recommender_input_args.copy()\n",
    "recommender_input_args_last_test.CONSTRUCTOR_POSITIONAL_ARGS[0] = URM_train + URM_validation\n",
    "\n",
    "\n",
    "parameterSearch.search(recommender_input_args,\n",
    "                       recommender_input_args_last_test = recommender_input_args_last_test,\n",
    "                       parameter_search_space = hyperparameters_range_dictionary,\n",
    "                       n_cases = n_cases,\n",
    "                       n_random_starts = int(n_cases/3),\n",
    "                       save_model = \"no\",\n",
    "                       output_folder_path = output_folder_path,\n",
    "                       output_file_name_root = recommender_class.RECOMMENDER_NAME,\n",
    "                       metric_to_optimize = metric_to_optimize\n",
    "                      )\n"
   ]
  },
  {
   "cell_type": "markdown",
   "metadata": {},
   "source": [
    "### The best solution has a MAP of 0.1385, slightly better than the pure CBF\n",
    "\n",
    "### Let's try another ICM, the genres of the movie"
   ]
  },
  {
   "cell_type": "code",
   "execution_count": 32,
   "metadata": {},
   "outputs": [
    {
     "data": {
      "text/plain": [
       "<65134x20 sparse matrix of type '<class 'numpy.float64'>'\n",
       "\twith 21559 stored elements in Compressed Sparse Row format>"
      ]
     },
     "execution_count": 32,
     "metadata": {},
     "output_type": "execute_result"
    }
   ],
   "source": [
    "genres_path = dataFile.extract(\"ml-10M100K/movies.dat\", path = \"data/Movielens_10M\")\n",
    "\n",
    "\n",
    "def _loadICM_genres(genres_path, header=True, separator='::', genresSeparator=\"|\"):\n",
    "\n",
    "    # Genres\n",
    "    from Data_manager.IncrementalSparseMatrix import IncrementalSparseMatrix\n",
    "\n",
    "    ICM_builder = IncrementalSparseMatrix(auto_create_col_mapper = True, \n",
    "                                          auto_create_row_mapper = False)\n",
    "\n",
    "\n",
    "    fileHandle = open(genres_path, \"r\", encoding=\"latin1\")\n",
    "    numCells = 0\n",
    "\n",
    "    if header:\n",
    "        fileHandle.readline()\n",
    "\n",
    "    for line in fileHandle:\n",
    "        numCells += 1\n",
    "        if (numCells % 1000000 == 0):\n",
    "            print(\"Processed {} cells\".format(numCells))\n",
    "\n",
    "        if (len(line)) > 1:\n",
    "            line = line.split(separator)\n",
    "\n",
    "            line[-1] = line[-1].replace(\"\\n\", \"\")\n",
    "\n",
    "            movie_id = int(line[0])\n",
    "\n",
    "            title = line[1]\n",
    "            # In case the title contains commas, it is enclosed in \"...\"\n",
    "            # genre list will always be the last element\n",
    "            genreList = line[-1]\n",
    "\n",
    "            genreList = genreList.split(genresSeparator)\n",
    "\n",
    "            # Rows movie ID\n",
    "            # Cols features\n",
    "            ICM_builder.add_single_row(movie_id, genreList, data = 1.0)\n",
    "\n",
    "\n",
    "    fileHandle.close()\n",
    "\n",
    "    return ICM_builder.get_SparseMatrix(), ICM_builder.get_column_token_to_id_mapper(), ICM_builder.get_row_token_to_id_mapper()\n",
    "\n",
    "\n",
    "ICM_genres, _, _ = _loadICM_genres(genres_path, header=True, separator='::', genresSeparator=\"|\")\n",
    "ICM_genres = ICM_genres.tocsr()\n",
    "\n",
    "ICM_genres"
   ]
  },
  {
   "cell_type": "code",
   "execution_count": 33,
   "metadata": {},
   "outputs": [
    {
     "name": "stdout",
     "output_type": "stream",
     "text": [
      "CFW_D_Similarity_Linalg: URM Detected 1690 (2.36 %) cold users.\n",
      "CFW_D_Similarity_Linalg: URM Detected 54497 (83.67 %) cold items.\n",
      "CFW_D_Similarity_Linalg: Generating train data\n",
      "Similarity column 65134 ( 100 % ), 7720.59 column/sec, elapsed time 0.14 min\n",
      "CFW_D_Similarity_Linalg: Collaborative S density: 1.75E-03, nonzero cells 7414519\n",
      "CFW_D_Similarity_Linalg: Content S density: 7.54E-04, nonzero cells 3199152\n",
      "CFW_D_Similarity_Linalg: Content S structure has 443430 out of 3199152 ( 13.86%) nonzero collaborative cells\n",
      "CFW_D_Similarity_Linalg: Nonzero collaborative cell sum is: 4.32E+04, average is: 9.74E-02, average over all collaborative data is 8.66E-02\n",
      "Similarity column 65134 ( 100 % ), 7866.48 column/sec, elapsed time 0.14 min\n",
      "EvaluatorHoldout: Processed 25001 ( 35.82% ) in 30.03 sec. Users per second: 833\n",
      "EvaluatorHoldout: Processed 51001 ( 73.07% ) in 1.00 min. Users per second: 847\n",
      "EvaluatorHoldout: Processed 69799 ( 100.00% ) in 1.35 min. Users per second: 861\n"
     ]
    },
    {
     "data": {
      "text/plain": [
       "{5: {'ROC_AUC': 0.02696194310329185,\n",
       "  'PRECISION': 0.013819682230405332,\n",
       "  'PRECISION_RECALL_MIN_DEN': 0.013888689904822817,\n",
       "  'RECALL': 0.0024711269425588458,\n",
       "  'MAP': 0.006124638047982366,\n",
       "  'MRR': 0.026448086648805956,\n",
       "  'NDCG': 0.003079272004801158,\n",
       "  'F1': 0.004192571251013258,\n",
       "  'HIT_RATE': 0.06909841115202224,\n",
       "  'ARHR': 0.028360482719427788,\n",
       "  'RMSE': 3.78591865525144,\n",
       "  'NOVELTY': 0.0010620557121006396,\n",
       "  'AVERAGE_POPULARITY': 0.06814811077101617,\n",
       "  'DIVERSITY_MEAN_INTER_LIST': 0.9491004905018248,\n",
       "  'DIVERSITY_HERFINDAHL': 0.9898173785757571,\n",
       "  'COVERAGE_ITEM': 0.053044492891577366,\n",
       "  'COVERAGE_USER': 0.9752822490498547,\n",
       "  'DIVERSITY_GINI': 0.09126655447944973,\n",
       "  'SHANNON_ENTROPY': 8.198852301833679}}"
      ]
     },
     "execution_count": 33,
     "metadata": {},
     "output_type": "execute_result"
    }
   ],
   "source": [
    "CFW_weithing_genre = CFW_D_Similarity_Linalg(URM_train, ICM_genres, W_sparse_CF)\n",
    "CFW_weithing_genre.fit()\n",
    "\n",
    "results_dict, _ = evaluator_test.evaluateRecommender(CFW_weithing_genre)\n",
    "results_dict"
   ]
  },
  {
   "cell_type": "code",
   "execution_count": 34,
   "metadata": {},
   "outputs": [
    {
     "name": "stdout",
     "output_type": "stream",
     "text": [
      "Iteration No: 1 started. Evaluating function at random point.\n",
      "CFW_D_Similarity_Linalg: URM Detected 1690 (2.36 %) cold users.\n",
      "CFW_D_Similarity_Linalg: URM Detected 54497 (83.67 %) cold items.\n",
      "SearchBayesianSkopt: Testing config: {'topK': 951, 'add_zeros_quota': 0.38245867094184216, 'normalize_similarity': False}\n",
      "CFW_D_Similarity_Linalg: Generating train data\n",
      "Similarity column 65134 ( 100 % ), 7601.78 column/sec, elapsed time 0.14 min\n",
      "CFW_D_Similarity_Linalg: Collaborative S density: 1.75E-03, nonzero cells 7414519\n",
      "CFW_D_Similarity_Linalg: Content S density: 2.32E-03, nonzero cells 9854003\n",
      "CFW_D_Similarity_Linalg: Generating train data. Sample 1872120 ( 26.26 %) \n",
      "CFW_D_Similarity_Linalg: Content S structure has 1176322 out of 9854003 ( 11.94%) nonzero collaborative cells\n",
      "CFW_D_Similarity_Linalg: Nonzero collaborative cell sum is: 1.11E+05, average is: 9.44E-02, average over all collaborative data is 8.66E-02\n",
      "Similarity column 65134 ( 100 % ), 7676.59 column/sec, elapsed time 0.14 min\n",
      "EvaluatorHoldout: Processed 21785 ( 32.27% ) in 30.01 sec. Users per second: 726\n",
      "EvaluatorHoldout: Processed 44001 ( 65.17% ) in 1.01 min. Users per second: 723\n",
      "EvaluatorHoldout: Processed 65941 ( 97.67% ) in 1.51 min. Users per second: 726\n",
      "EvaluatorHoldout: Processed 67517 ( 100.00% ) in 1.55 min. Users per second: 726\n",
      "SearchBayesianSkopt: New best config found. Config 0: {'topK': 951, 'add_zeros_quota': 0.38245867094184216, 'normalize_similarity': False} - results: ROC_AUC: 0.0085472, PRECISION: 0.0042478, PRECISION_RECALL_MIN_DEN: 0.0047198, RECALL: 0.0020101, MAP: 0.0019022, MRR: 0.0081152, NDCG: 0.0016505, F1: 0.0027289, HIT_RATE: 0.0212391, ARHR: 0.0083448, RMSE: 3.5876350, NOVELTY: 0.0010918, AVERAGE_POPULARITY: 0.0539976, DIVERSITY_MEAN_INTER_LIST: 0.9024546, DIVERSITY_HERFINDAHL: 0.9804882, COVERAGE_ITEM: 0.0342525, COVERAGE_USER: 0.9433965, DIVERSITY_GINI: 0.0639022, SHANNON_ENTROPY: 7.0164340, \n",
      "\n",
      "EvaluatorHoldout: Processed 20001 ( 28.66% ) in 30.55 sec. Users per second: 655\n",
      "EvaluatorHoldout: Processed 40001 ( 57.31% ) in 1.01 min. Users per second: 658\n",
      "EvaluatorHoldout: Processed 62001 ( 88.83% ) in 1.53 min. Users per second: 675\n",
      "EvaluatorHoldout: Processed 69799 ( 100.00% ) in 1.69 min. Users per second: 689\n",
      "SearchBayesianSkopt: Best config evaluated with evaluator_test. Config: {'topK': 951, 'add_zeros_quota': 0.38245867094184216, 'normalize_similarity': False} - results:\n",
      "CUTOFF: 5 - ROC_AUC: 0.0192744, PRECISION: 0.0101205, PRECISION_RECALL_MIN_DEN: 0.0102205, RECALL: 0.0019105, MAP: 0.0043348, MRR: 0.0189129, NDCG: 0.0021204, F1: 0.0032143, HIT_RATE: 0.0506024, ARHR: 0.0200860, RMSE: 3.6165838, NOVELTY: 0.0010917, AVERAGE_POPULARITY: 0.0541254, DIVERSITY_MEAN_INTER_LIST: 0.9035470, DIVERSITY_HERFINDAHL: 0.9807068, COVERAGE_ITEM: 0.0349894, COVERAGE_USER: 0.9752822, DIVERSITY_GINI: 0.0636000, SHANNON_ENTROPY: 7.0365169, \n",
      "\n",
      "\n",
      "DataIO: Json dumps supports only 'str' as dictionary keys. Transforming keys to string, note that this will alter the mapper content.\n",
      "Iteration No: 1 ended. Evaluation done at random point.\n",
      "Time taken: 271.2214\n",
      "Function value obtained: -0.0019\n",
      "Current minimum: -0.0019\n",
      "Iteration No: 2 started. Evaluating function at random point.\n",
      "CFW_D_Similarity_Linalg: URM Detected 1690 (2.36 %) cold users.\n",
      "CFW_D_Similarity_Linalg: URM Detected 54497 (83.67 %) cold items.\n",
      "SearchBayesianSkopt: Testing config: {'topK': 827, 'add_zeros_quota': 0.8184037892412408, 'normalize_similarity': True}\n",
      "CFW_D_Similarity_Linalg: Generating train data\n",
      "Similarity column 65134 ( 100 % ), 7485.50 column/sec, elapsed time 0.15 min\n",
      "CFW_D_Similarity_Linalg: Collaborative S density: 1.75E-03, nonzero cells 7414519\n",
      "CFW_D_Similarity_Linalg: Content S density: 2.03E-03, nonzero cells 8610515\n",
      "CFW_D_Similarity_Linalg: Generating train data. Sample 3237105 ( 68.36 %) \n",
      "CFW_D_Similarity_Linalg: Content S structure has 1043097 out of 8610515 ( 12.11%) nonzero collaborative cells\n",
      "CFW_D_Similarity_Linalg: Nonzero collaborative cell sum is: 2.53E+05, average is: 2.43E-01, average over all collaborative data is 8.66E-02\n",
      "Similarity column 65134 ( 100 % ), 4095.83 column/sec, elapsed time 0.27 min\n",
      "EvaluatorHoldout: Processed 22001 ( 32.59% ) in 30.13 sec. Users per second: 730\n",
      "EvaluatorHoldout: Processed 45001 ( 66.65% ) in 1.01 min. Users per second: 745\n",
      "EvaluatorHoldout: Processed 67517 ( 100.00% ) in 1.48 min. Users per second: 760\n",
      "SearchBayesianSkopt: New best config found. Config 1: {'topK': 827, 'add_zeros_quota': 0.8184037892412408, 'normalize_similarity': True} - results: ROC_AUC: 0.0143371, PRECISION: 0.0062236, PRECISION_RECALL_MIN_DEN: 0.0068958, RECALL: 0.0029336, MAP: 0.0031754, MRR: 0.0133956, NDCG: 0.0028433, F1: 0.0039875, HIT_RATE: 0.0311181, ARHR: 0.0138348, RMSE: 3.2106330, NOVELTY: 0.0010825, AVERAGE_POPULARITY: 0.0700049, DIVERSITY_MEAN_INTER_LIST: 0.9820763, DIVERSITY_HERFINDAHL: 0.9964124, COVERAGE_ITEM: 0.0778242, COVERAGE_USER: 0.9433965, DIVERSITY_GINI: 0.1227216, SHANNON_ENTROPY: 9.3332011, \n",
      "\n",
      "EvaluatorHoldout: Processed 22001 ( 31.52% ) in 30.57 sec. Users per second: 720\n",
      "EvaluatorHoldout: Processed 45001 ( 64.47% ) in 1.02 min. Users per second: 738\n",
      "EvaluatorHoldout: Processed 60997 ( 87.39% ) in 1.52 min. Users per second: 670\n",
      "EvaluatorHoldout: Processed 69001 ( 98.86% ) in 2.05 min. Users per second: 562\n",
      "EvaluatorHoldout: Processed 69799 ( 100.00% ) in 2.06 min. Users per second: 564\n",
      "SearchBayesianSkopt: Best config evaluated with evaluator_test. Config: {'topK': 827, 'add_zeros_quota': 0.8184037892412408, 'normalize_similarity': True} - results:\n",
      "CUTOFF: 5 - ROC_AUC: 0.0331320, PRECISION: 0.0154071, PRECISION_RECALL_MIN_DEN: 0.0155294, RECALL: 0.0029385, MAP: 0.0075716, MRR: 0.0315086, NDCG: 0.0038435, F1: 0.0049357, HIT_RATE: 0.0770355, ARHR: 0.0342844, RMSE: 3.2484753, NOVELTY: 0.0010823, AVERAGE_POPULARITY: 0.0702152, DIVERSITY_MEAN_INTER_LIST: 0.9822417, DIVERSITY_HERFINDAHL: 0.9964455, COVERAGE_ITEM: 0.0788989, COVERAGE_USER: 0.9752822, DIVERSITY_GINI: 0.1224460, SHANNON_ENTROPY: 9.3502591, \n",
      "\n",
      "\n",
      "Iteration No: 2 ended. Evaluation done at random point.\n",
      "Time taken: 303.2942\n",
      "Function value obtained: -0.0032\n",
      "Current minimum: -0.0032\n",
      "Iteration No: 3 started. Evaluating function at random point.\n",
      "CFW_D_Similarity_Linalg: URM Detected 1690 (2.36 %) cold users.\n",
      "CFW_D_Similarity_Linalg: URM Detected 54497 (83.67 %) cold items.\n",
      "SearchBayesianSkopt: Testing config: {'topK': 436, 'add_zeros_quota': 0.2543683531224387, 'normalize_similarity': False}\n",
      "CFW_D_Similarity_Linalg: Generating train data\n",
      "Similarity column 65134 ( 100 % ), 2674.74 column/sec, elapsed time 0.41 min\n",
      "CFW_D_Similarity_Linalg: Collaborative S density: 1.75E-03, nonzero cells 7414519\n",
      "CFW_D_Similarity_Linalg: Content S density: 1.09E-03, nonzero cells 4636782\n",
      "CFW_D_Similarity_Linalg: Generating train data. Sample 94513 ( 2.56 %) \n",
      "CFW_D_Similarity_Linalg: Generating train data. Sample 701465 ( 18.98 %) \n",
      "CFW_D_Similarity_Linalg: Generating train data. Sample 1445472 ( 39.10 %) \n",
      "CFW_D_Similarity_Linalg: Content S structure has 599329 out of 4636782 ( 12.93%) nonzero collaborative cells\n",
      "CFW_D_Similarity_Linalg: Nonzero collaborative cell sum is: 5.76E+04, average is: 9.62E-02, average over all collaborative data is 8.66E-02\n",
      "Similarity column 65134 ( 100 % ), 2817.84 column/sec, elapsed time 0.39 min\n",
      "EvaluatorHoldout: Processed 8001 ( 11.85% ) in 30.31 sec. Users per second: 264\n",
      "EvaluatorHoldout: Processed 17001 ( 25.18% ) in 1.03 min. Users per second: 276\n",
      "EvaluatorHoldout: Processed 26001 ( 38.51% ) in 1.54 min. Users per second: 282\n",
      "EvaluatorHoldout: Processed 35001 ( 51.84% ) in 2.05 min. Users per second: 285\n",
      "EvaluatorHoldout: Processed 44001 ( 65.17% ) in 2.57 min. Users per second: 285\n",
      "EvaluatorHoldout: Processed 53001 ( 78.50% ) in 3.09 min. Users per second: 286\n",
      "EvaluatorHoldout: Processed 62001 ( 91.83% ) in 3.60 min. Users per second: 287\n",
      "EvaluatorHoldout: Processed 67517 ( 100.00% ) in 3.87 min. Users per second: 290\n",
      "SearchBayesianSkopt: Config 2 is suboptimal. Config: {'topK': 436, 'add_zeros_quota': 0.2543683531224387, 'normalize_similarity': False} - results: ROC_AUC: 0.0121068, PRECISION: 0.0056075, PRECISION_RECALL_MIN_DEN: 0.0061143, RECALL: 0.0027105, MAP: 0.0025772, MRR: 0.0112816, NDCG: 0.0024436, F1: 0.0036545, HIT_RATE: 0.0280374, ARHR: 0.0115477, RMSE: 3.4457261, NOVELTY: 0.0010623, AVERAGE_POPULARITY: 0.0672176, DIVERSITY_MEAN_INTER_LIST: 0.9346603, DIVERSITY_HERFINDAHL: 0.9869293, COVERAGE_ITEM: 0.0416372, COVERAGE_USER: 0.9433965, DIVERSITY_GINI: 0.0791085, SHANNON_ENTROPY: 7.6352679, \n",
      "\n"
     ]
    },
    {
     "name": "stdout",
     "output_type": "stream",
     "text": [
      "Iteration No: 3 ended. Evaluation done at random point.\n",
      "Time taken: 374.7984\n",
      "Function value obtained: -0.0026\n",
      "Current minimum: -0.0032\n",
      "Iteration No: 4 started. Searching for the next optimal point.\n",
      "CFW_D_Similarity_Linalg: URM Detected 1690 (2.36 %) cold users.\n",
      "CFW_D_Similarity_Linalg: URM Detected 54497 (83.67 %) cold items.\n",
      "SearchBayesianSkopt: Testing config: {'topK': 5, 'add_zeros_quota': 1.0, 'normalize_similarity': True}\n",
      "CFW_D_Similarity_Linalg: Generating train data\n",
      "Similarity column 65134 ( 100 % ), 2759.55 column/sec, elapsed time 0.39 min\n",
      "CFW_D_Similarity_Linalg: Collaborative S density: 1.75E-03, nonzero cells 7414519\n",
      "CFW_D_Similarity_Linalg: Content S density: 1.26E-05, nonzero cells 53395\n",
      "CFW_D_Similarity_Linalg: Generating train data. Sample 47681 ( 178.60 %) \n",
      "CFW_D_Similarity_Linalg: Content S structure has 8949 out of 53395 ( 16.76%) nonzero collaborative cells\n",
      "CFW_D_Similarity_Linalg: Nonzero collaborative cell sum is: 2.82E+03, average is: 3.15E-01, average over all collaborative data is 8.66E-02\n",
      "Similarity column 44469 ( 68 % ), 1481.70 column/sec, elapsed time 0.50 min\n",
      "Similarity column 65134 ( 100 % ), 1523.70 column/sec, elapsed time 0.71 min\n",
      "EvaluatorHoldout: Processed 11001 ( 16.29% ) in 31.53 sec. Users per second: 349\n",
      "EvaluatorHoldout: Processed 23026 ( 34.10% ) in 1.03 min. Users per second: 374\n",
      "EvaluatorHoldout: Processed 35001 ( 51.84% ) in 1.53 min. Users per second: 381\n",
      "EvaluatorHoldout: Processed 47001 ( 69.61% ) in 2.03 min. Users per second: 386\n",
      "EvaluatorHoldout: Processed 59001 ( 87.39% ) in 2.53 min. Users per second: 388\n",
      "EvaluatorHoldout: Processed 67517 ( 100.00% ) in 2.86 min. Users per second: 393\n",
      "SearchBayesianSkopt: New best config found. Config 3: {'topK': 5, 'add_zeros_quota': 1.0, 'normalize_similarity': True} - results: ROC_AUC: 0.0173537, PRECISION: 0.0076129, PRECISION_RECALL_MIN_DEN: 0.0081022, RECALL: 0.0029104, MAP: 0.0038597, MRR: 0.0163546, NDCG: 0.0031166, F1: 0.0042109, HIT_RATE: 0.0380645, ARHR: 0.0172885, RMSE: 3.7003633, NOVELTY: 0.0010507, AVERAGE_POPULARITY: 0.0801036, DIVERSITY_MEAN_INTER_LIST: 0.9667797, DIVERSITY_HERFINDAHL: 0.9933531, COVERAGE_ITEM: 0.0526146, COVERAGE_USER: 0.9433965, DIVERSITY_GINI: 0.1116612, SHANNON_ENTROPY: 8.5919164, \n",
      "\n",
      "EvaluatorHoldout: Processed 11664 ( 16.71% ) in 30.01 sec. Users per second: 389\n",
      "EvaluatorHoldout: Processed 23001 ( 32.95% ) in 1.00 min. Users per second: 383\n",
      "EvaluatorHoldout: Processed 35001 ( 50.15% ) in 1.50 min. Users per second: 388\n",
      "EvaluatorHoldout: Processed 47232 ( 67.67% ) in 2.00 min. Users per second: 393\n",
      "EvaluatorHoldout: Processed 60001 ( 85.96% ) in 2.53 min. Users per second: 396\n",
      "EvaluatorHoldout: Processed 69799 ( 100.00% ) in 2.92 min. Users per second: 399\n",
      "SearchBayesianSkopt: Best config evaluated with evaluator_test. Config: {'topK': 5, 'add_zeros_quota': 1.0, 'normalize_similarity': True} - results:\n",
      "CUTOFF: 5 - ROC_AUC: 0.0371280, PRECISION: 0.0181693, PRECISION_RECALL_MIN_DEN: 0.0182393, RECALL: 0.0028187, MAP: 0.0094387, MRR: 0.0365691, NDCG: 0.0040803, F1: 0.0048803, HIT_RATE: 0.0908466, ARHR: 0.0413977, RMSE: 3.7229788, NOVELTY: 0.0010503, AVERAGE_POPULARITY: 0.0802121, DIVERSITY_MEAN_INTER_LIST: 0.9673653, DIVERSITY_HERFINDAHL: 0.9934703, COVERAGE_ITEM: 0.0534590, COVERAGE_USER: 0.9752822, DIVERSITY_GINI: 0.1109776, SHANNON_ENTROPY: 8.6106108, \n",
      "\n",
      "\n",
      "Iteration No: 4 ended. Search finished for the next optimal point.\n",
      "Time taken: 428.4944\n",
      "Function value obtained: -0.0039\n",
      "Current minimum: -0.0039\n",
      "Iteration No: 5 started. Searching for the next optimal point.\n",
      "CFW_D_Similarity_Linalg: URM Detected 1690 (2.36 %) cold users.\n",
      "CFW_D_Similarity_Linalg: URM Detected 54497 (83.67 %) cold items.\n",
      "SearchBayesianSkopt: Testing config: {'topK': 5, 'add_zeros_quota': 0.0, 'normalize_similarity': True}\n",
      "CFW_D_Similarity_Linalg: Generating train data\n",
      "Similarity column 65134 ( 100 % ), 2685.88 column/sec, elapsed time 0.40 min\n",
      "CFW_D_Similarity_Linalg: Collaborative S density: 1.75E-03, nonzero cells 7414519\n",
      "CFW_D_Similarity_Linalg: Content S density: 1.26E-05, nonzero cells 53395\n",
      "CFW_D_Similarity_Linalg: Generating train data. Sample 8093 ( 15.16 %) \n",
      "CFW_D_Similarity_Linalg: Content S structure has 8949 out of 53395 ( 16.76%) nonzero collaborative cells\n",
      "CFW_D_Similarity_Linalg: Nonzero collaborative cell sum is: 2.82E+03, average is: 3.15E-01, average over all collaborative data is 8.66E-02\n",
      "Similarity column 41976 ( 64 % ), 1398.58 column/sec, elapsed time 0.50 min\n",
      "Similarity column 65134 ( 100 % ), 1452.58 column/sec, elapsed time 0.75 min\n",
      "EvaluatorHoldout: Processed 11001 ( 16.29% ) in 30.65 sec. Users per second: 359\n",
      "EvaluatorHoldout: Processed 23001 ( 34.07% ) in 1.03 min. Users per second: 373\n",
      "EvaluatorHoldout: Processed 35001 ( 51.84% ) in 1.55 min. Users per second: 377\n",
      "EvaluatorHoldout: Processed 47001 ( 69.61% ) in 2.06 min. Users per second: 380\n",
      "EvaluatorHoldout: Processed 59001 ( 87.39% ) in 2.58 min. Users per second: 381\n",
      "EvaluatorHoldout: Processed 67517 ( 100.00% ) in 2.92 min. Users per second: 385\n",
      "SearchBayesianSkopt: New best config found. Config 4: {'topK': 5, 'add_zeros_quota': 0.0, 'normalize_similarity': True} - results: ROC_AUC: 0.0193729, PRECISION: 0.0082231, PRECISION_RECALL_MIN_DEN: 0.0088578, RECALL: 0.0033555, MAP: 0.0043070, MRR: 0.0181702, NDCG: 0.0036651, F1: 0.0047662, HIT_RATE: 0.0411156, ARHR: 0.0191335, RMSE: 3.6629977, NOVELTY: 0.0010580, AVERAGE_POPULARITY: 0.0751873, DIVERSITY_MEAN_INTER_LIST: 0.9714993, DIVERSITY_HERFINDAHL: 0.9942970, COVERAGE_ITEM: 0.0696257, COVERAGE_USER: 0.9433965, DIVERSITY_GINI: 0.1195343, SHANNON_ENTROPY: 9.0007463, \n",
      "\n",
      "EvaluatorHoldout: Processed 10001 ( 14.33% ) in 30.12 sec. Users per second: 332\n",
      "EvaluatorHoldout: Processed 22001 ( 31.52% ) in 1.01 min. Users per second: 362\n",
      "EvaluatorHoldout: Processed 34001 ( 48.71% ) in 1.53 min. Users per second: 372\n",
      "EvaluatorHoldout: Processed 46001 ( 65.90% ) in 2.04 min. Users per second: 375\n",
      "EvaluatorHoldout: Processed 58001 ( 83.10% ) in 2.56 min. Users per second: 377\n",
      "EvaluatorHoldout: Processed 69799 ( 100.00% ) in 3.05 min. Users per second: 381\n",
      "SearchBayesianSkopt: Best config evaluated with evaluator_test. Config: {'topK': 5, 'add_zeros_quota': 0.0, 'normalize_similarity': True} - results:\n",
      "CUTOFF: 5 - ROC_AUC: 0.0418643, PRECISION: 0.0198054, PRECISION_RECALL_MIN_DEN: 0.0199122, RECALL: 0.0032858, MAP: 0.0103184, MRR: 0.0409354, NDCG: 0.0046303, F1: 0.0056364, HIT_RATE: 0.0990272, ARHR: 0.0458020, RMSE: 3.6862326, NOVELTY: 0.0010581, AVERAGE_POPULARITY: 0.0752067, DIVERSITY_MEAN_INTER_LIST: 0.9719029, DIVERSITY_HERFINDAHL: 0.9943778, COVERAGE_ITEM: 0.0704548, COVERAGE_USER: 0.9752822, DIVERSITY_GINI: 0.1196407, SHANNON_ENTROPY: 9.0211851, \n",
      "\n",
      "\n",
      "Iteration No: 5 ended. Search finished for the next optimal point.\n",
      "Time taken: 441.9117\n",
      "Function value obtained: -0.0043\n",
      "Current minimum: -0.0043\n",
      "Iteration No: 6 started. Searching for the next optimal point.\n"
     ]
    },
    {
     "name": "stderr",
     "output_type": "stream",
     "text": [
      "C:\\Users\\ferra\\Anaconda3\\envs\\RecSysFramework\\lib\\site-packages\\skopt\\optimizer\\optimizer.py:399: UserWarning: The objective has been evaluated at this point before.\n",
      "  warnings.warn(\"The objective has been evaluated \"\n"
     ]
    },
    {
     "name": "stdout",
     "output_type": "stream",
     "text": [
      "CFW_D_Similarity_Linalg: URM Detected 1690 (2.36 %) cold users.\n",
      "CFW_D_Similarity_Linalg: URM Detected 54497 (83.67 %) cold items.\n",
      "SearchBayesianSkopt: Testing config: {'topK': 5, 'add_zeros_quota': 0.0, 'normalize_similarity': True}\n",
      "CFW_D_Similarity_Linalg: Generating train data\n",
      "Similarity column 65134 ( 100 % ), 2606.03 column/sec, elapsed time 0.42 min\n",
      "CFW_D_Similarity_Linalg: Collaborative S density: 1.75E-03, nonzero cells 7414519\n",
      "CFW_D_Similarity_Linalg: Content S density: 1.26E-05, nonzero cells 53395\n",
      "CFW_D_Similarity_Linalg: Generating train data. Sample 7765 ( 14.54 %) \n",
      "CFW_D_Similarity_Linalg: Content S structure has 8949 out of 53395 ( 16.76%) nonzero collaborative cells\n",
      "CFW_D_Similarity_Linalg: Nonzero collaborative cell sum is: 2.82E+03, average is: 3.15E-01, average over all collaborative data is 8.66E-02\n",
      "Similarity column 41662 ( 64 % ), 1388.73 column/sec, elapsed time 0.50 min\n",
      "Similarity column 65134 ( 100 % ), 1430.43 column/sec, elapsed time 0.76 min\n",
      "EvaluatorHoldout: Processed 11001 ( 16.29% ) in 30.96 sec. Users per second: 355\n",
      "EvaluatorHoldout: Processed 21960 ( 32.53% ) in 1.02 min. Users per second: 359\n",
      "EvaluatorHoldout: Processed 32342 ( 47.90% ) in 1.52 min. Users per second: 355\n",
      "EvaluatorHoldout: Processed 44244 ( 65.53% ) in 2.02 min. Users per second: 365\n",
      "EvaluatorHoldout: Processed 56001 ( 82.94% ) in 2.55 min. Users per second: 367\n",
      "EvaluatorHoldout: Processed 67517 ( 100.00% ) in 3.01 min. Users per second: 374\n",
      "SearchBayesianSkopt: Config 5 is suboptimal. Config: {'topK': 5, 'add_zeros_quota': 0.0, 'normalize_similarity': True} - results: ROC_AUC: 0.0193729, PRECISION: 0.0082231, PRECISION_RECALL_MIN_DEN: 0.0088578, RECALL: 0.0033555, MAP: 0.0043070, MRR: 0.0181702, NDCG: 0.0036651, F1: 0.0047662, HIT_RATE: 0.0411156, ARHR: 0.0191335, RMSE: 3.6629977, NOVELTY: 0.0010580, AVERAGE_POPULARITY: 0.0751873, DIVERSITY_MEAN_INTER_LIST: 0.9714993, DIVERSITY_HERFINDAHL: 0.9942970, COVERAGE_ITEM: 0.0696257, COVERAGE_USER: 0.9433965, DIVERSITY_GINI: 0.1195343, SHANNON_ENTROPY: 9.0007463, \n",
      "\n",
      "Iteration No: 6 ended. Search finished for the next optimal point.\n",
      "Time taken: 266.1164\n",
      "Function value obtained: -0.0043\n",
      "Current minimum: -0.0043\n",
      "Iteration No: 7 started. Searching for the next optimal point.\n",
      "CFW_D_Similarity_Linalg: URM Detected 1690 (2.36 %) cold users.\n",
      "CFW_D_Similarity_Linalg: URM Detected 54497 (83.67 %) cold items.\n",
      "SearchBayesianSkopt: Testing config: {'topK': 7, 'add_zeros_quota': 0.9974822492842776, 'normalize_similarity': False}\n",
      "CFW_D_Similarity_Linalg: Generating train data\n",
      "Similarity column 65134 ( 100 % ), 2585.19 column/sec, elapsed time 0.42 min\n",
      "CFW_D_Similarity_Linalg: Collaborative S density: 1.75E-03, nonzero cells 7414519\n",
      "CFW_D_Similarity_Linalg: Content S density: 1.76E-05, nonzero cells 74753\n",
      "CFW_D_Similarity_Linalg: Generating train data. Sample 60441 ( 161.50 %) \n",
      "CFW_D_Similarity_Linalg: Content S structure has 12373 out of 74753 ( 16.55%) nonzero collaborative cells\n",
      "CFW_D_Similarity_Linalg: Nonzero collaborative cell sum is: 1.29E+03, average is: 1.04E-01, average over all collaborative data is 8.66E-02\n",
      "Similarity column 65134 ( 100 % ), 2627.85 column/sec, elapsed time 0.41 min\n",
      "EvaluatorHoldout: Processed 11001 ( 16.29% ) in 31.06 sec. Users per second: 354\n",
      "EvaluatorHoldout: Processed 22001 ( 32.59% ) in 1.03 min. Users per second: 357\n",
      "EvaluatorHoldout: Processed 34001 ( 50.36% ) in 1.55 min. Users per second: 365\n",
      "EvaluatorHoldout: Processed 46001 ( 68.13% ) in 2.06 min. Users per second: 372\n",
      "EvaluatorHoldout: Processed 58001 ( 85.91% ) in 2.58 min. Users per second: 375\n",
      "EvaluatorHoldout: Processed 67517 ( 100.00% ) in 2.96 min. Users per second: 380\n",
      "SearchBayesianSkopt: New best config found. Config 6: {'topK': 7, 'add_zeros_quota': 0.9974822492842776, 'normalize_similarity': False} - results: ROC_AUC: 0.0223326, PRECISION: 0.0093636, PRECISION_RECALL_MIN_DEN: 0.0099659, RECALL: 0.0038020, MAP: 0.0047764, MRR: 0.0205699, NDCG: 0.0042659, F1: 0.0054081, HIT_RATE: 0.0468178, ARHR: 0.0215857, RMSE: 3.6954866, NOVELTY: 0.0010447, AVERAGE_POPULARITY: 0.0801586, DIVERSITY_MEAN_INTER_LIST: 0.9586479, DIVERSITY_HERFINDAHL: 0.9917267, COVERAGE_ITEM: 0.0420211, COVERAGE_USER: 0.9433965, DIVERSITY_GINI: 0.1127096, SHANNON_ENTROPY: 8.2976413, \n",
      "\n",
      "EvaluatorHoldout: Processed 11001 ( 15.76% ) in 30.53 sec. Users per second: 360\n",
      "EvaluatorHoldout: Processed 23001 ( 32.95% ) in 1.04 min. Users per second: 369\n",
      "EvaluatorHoldout: Processed 34597 ( 49.57% ) in 1.54 min. Users per second: 375\n",
      "EvaluatorHoldout: Processed 46061 ( 65.99% ) in 2.04 min. Users per second: 376\n",
      "EvaluatorHoldout: Processed 58001 ( 83.10% ) in 2.55 min. Users per second: 380\n",
      "EvaluatorHoldout: Processed 69799 ( 100.00% ) in 3.02 min. Users per second: 385\n",
      "SearchBayesianSkopt: Best config evaluated with evaluator_test. Config: {'topK': 7, 'add_zeros_quota': 0.9974822492842776, 'normalize_similarity': False} - results:\n",
      "CUTOFF: 5 - ROC_AUC: 0.0482170, PRECISION: 0.0219659, PRECISION_RECALL_MIN_DEN: 0.0221054, RECALL: 0.0037632, MAP: 0.0114994, MRR: 0.0463942, NDCG: 0.0056165, F1: 0.0064255, HIT_RATE: 0.1098297, ARHR: 0.0514501, RMSE: 3.7181361, NOVELTY: 0.0010445, AVERAGE_POPULARITY: 0.0801542, DIVERSITY_MEAN_INTER_LIST: 0.9590588, DIVERSITY_HERFINDAHL: 0.9918090, COVERAGE_ITEM: 0.0425738, COVERAGE_USER: 0.9752822, DIVERSITY_GINI: 0.1127790, SHANNON_ENTROPY: 8.3154634, \n",
      "\n",
      "\n",
      "Iteration No: 7 ended. Search finished for the next optimal point.\n",
      "Time taken: 425.1172\n",
      "Function value obtained: -0.0048\n",
      "Current minimum: -0.0048\n",
      "Iteration No: 8 started. Searching for the next optimal point.\n",
      "CFW_D_Similarity_Linalg: URM Detected 1690 (2.36 %) cold users.\n",
      "CFW_D_Similarity_Linalg: URM Detected 54497 (83.67 %) cold items.\n",
      "SearchBayesianSkopt: Testing config: {'topK': 994, 'add_zeros_quota': 0.9978968873719771, 'normalize_similarity': True}\n",
      "CFW_D_Similarity_Linalg: Generating train data\n",
      "Similarity column 65134 ( 100 % ), 2724.77 column/sec, elapsed time 0.40 min\n",
      "CFW_D_Similarity_Linalg: Collaborative S density: 1.75E-03, nonzero cells 7414519\n",
      "CFW_D_Similarity_Linalg: Content S density: 2.42E-03, nonzero cells 10283691\n",
      "CFW_D_Similarity_Linalg: Generating train data. Sample 317209 ( 6.16 %) \n",
      "CFW_D_Similarity_Linalg: Generating train data. Sample 1670183 ( 32.45 %) \n",
      "CFW_D_Similarity_Linalg: Generating train data. Sample 3417335 ( 66.39 %) \n",
      "CFW_D_Similarity_Linalg: Generating train data. Sample 6011760 ( 116.80 %) \n",
      "CFW_D_Similarity_Linalg: Generating train data. Sample 8639279 ( 167.84 %) \n",
      "CFW_D_Similarity_Linalg: Content S structure has 1221232 out of 10283691 ( 11.88%) nonzero collaborative cells\n",
      "CFW_D_Similarity_Linalg: Nonzero collaborative cell sum is: 2.91E+05, average is: 2.38E-01, average over all collaborative data is 8.66E-02\n",
      "Similarity column 42920 ( 66 % ), 1430.25 column/sec, elapsed time 0.50 min\n",
      "Similarity column 65134 ( 100 % ), 1478.02 column/sec, elapsed time 0.73 min\n",
      "EvaluatorHoldout: Processed 7001 ( 10.37% ) in 30.79 sec. Users per second: 227\n",
      "EvaluatorHoldout: Processed 15001 ( 22.22% ) in 1.02 min. Users per second: 246\n",
      "EvaluatorHoldout: Processed 23111 ( 34.23% ) in 1.52 min. Users per second: 254\n",
      "EvaluatorHoldout: Processed 30839 ( 45.68% ) in 2.02 min. Users per second: 255\n",
      "EvaluatorHoldout: Processed 38001 ( 56.28% ) in 2.53 min. Users per second: 250\n",
      "EvaluatorHoldout: Processed 46001 ( 68.13% ) in 3.05 min. Users per second: 251\n",
      "EvaluatorHoldout: Processed 54001 ( 79.98% ) in 3.56 min. Users per second: 253\n",
      "EvaluatorHoldout: Processed 62001 ( 91.83% ) in 4.07 min. Users per second: 254\n",
      "EvaluatorHoldout: Processed 67517 ( 100.00% ) in 4.38 min. Users per second: 257\n",
      "SearchBayesianSkopt: Config 7 is suboptimal. Config: {'topK': 994, 'add_zeros_quota': 0.9978968873719771, 'normalize_similarity': True} - results: ROC_AUC: 0.0136534, PRECISION: 0.0062473, PRECISION_RECALL_MIN_DEN: 0.0068748, RECALL: 0.0028487, MAP: 0.0030386, MRR: 0.0129807, NDCG: 0.0027628, F1: 0.0039131, HIT_RATE: 0.0312366, ARHR: 0.0134287, RMSE: 3.1870897, NOVELTY: 0.0010849, AVERAGE_POPULARITY: 0.0700258, DIVERSITY_MEAN_INTER_LIST: 0.9812180, DIVERSITY_HERFINDAHL: 0.9962407, COVERAGE_ITEM: 0.0778856, COVERAGE_USER: 0.9433965, DIVERSITY_GINI: 0.1184036, SHANNON_ENTROPY: 9.2504893, \n",
      "\n"
     ]
    },
    {
     "name": "stdout",
     "output_type": "stream",
     "text": [
      "Iteration No: 8 ended. Search finished for the next optimal point.\n",
      "Time taken: 574.3647\n",
      "Function value obtained: -0.0030\n",
      "Current minimum: -0.0048\n",
      "Iteration No: 9 started. Searching for the next optimal point.\n",
      "CFW_D_Similarity_Linalg: URM Detected 1690 (2.36 %) cold users.\n",
      "CFW_D_Similarity_Linalg: URM Detected 54497 (83.67 %) cold items.\n",
      "SearchBayesianSkopt: Testing config: {'topK': 5, 'add_zeros_quota': 0.0, 'normalize_similarity': False}\n",
      "CFW_D_Similarity_Linalg: Generating train data\n",
      "Similarity column 65134 ( 100 % ), 2612.20 column/sec, elapsed time 0.42 min\n",
      "CFW_D_Similarity_Linalg: Collaborative S density: 1.75E-03, nonzero cells 7414519\n",
      "CFW_D_Similarity_Linalg: Content S density: 1.26E-05, nonzero cells 53395\n",
      "CFW_D_Similarity_Linalg: Generating train data. Sample 7765 ( 14.54 %) \n",
      "CFW_D_Similarity_Linalg: Content S structure has 8949 out of 53395 ( 16.76%) nonzero collaborative cells\n",
      "CFW_D_Similarity_Linalg: Nonzero collaborative cell sum is: 9.35E+02, average is: 1.05E-01, average over all collaborative data is 8.66E-02\n",
      "Similarity column 65134 ( 100 % ), 2657.10 column/sec, elapsed time 0.41 min\n",
      "EvaluatorHoldout: Processed 11001 ( 16.29% ) in 30.65 sec. Users per second: 359\n",
      "EvaluatorHoldout: Processed 23008 ( 34.08% ) in 1.01 min. Users per second: 379\n",
      "EvaluatorHoldout: Processed 35001 ( 51.84% ) in 1.51 min. Users per second: 385\n",
      "EvaluatorHoldout: Processed 47001 ( 69.61% ) in 2.03 min. Users per second: 387\n",
      "EvaluatorHoldout: Processed 59001 ( 87.39% ) in 2.54 min. Users per second: 388\n",
      "EvaluatorHoldout: Processed 67517 ( 100.00% ) in 2.88 min. Users per second: 390\n",
      "SearchBayesianSkopt: Config 8 is suboptimal. Config: {'topK': 5, 'add_zeros_quota': 0.0, 'normalize_similarity': False} - results: ROC_AUC: 0.0137447, PRECISION: 0.0057763, PRECISION_RECALL_MIN_DEN: 0.0061631, RECALL: 0.0023930, MAP: 0.0028895, MRR: 0.0128247, NDCG: 0.0026713, F1: 0.0033841, HIT_RATE: 0.0288816, ARHR: 0.0131814, RMSE: 3.6725784, NOVELTY: 0.0010791, AVERAGE_POPULARITY: 0.0631152, DIVERSITY_MEAN_INTER_LIST: 0.9769712, DIVERSITY_HERFINDAHL: 0.9953913, COVERAGE_ITEM: 0.0500353, COVERAGE_USER: 0.9433965, DIVERSITY_GINI: 0.1272399, SHANNON_ENTROPY: 8.8710380, \n",
      "\n",
      "Iteration No: 9 ended. Search finished for the next optimal point.\n",
      "Time taken: 237.6828\n",
      "Function value obtained: -0.0029\n",
      "Current minimum: -0.0048\n",
      "Iteration No: 10 started. Searching for the next optimal point.\n",
      "CFW_D_Similarity_Linalg: URM Detected 1690 (2.36 %) cold users.\n",
      "CFW_D_Similarity_Linalg: URM Detected 54497 (83.67 %) cold items.\n",
      "SearchBayesianSkopt: Testing config: {'topK': 999, 'add_zeros_quota': 0.007490959275731847, 'normalize_similarity': False}\n",
      "CFW_D_Similarity_Linalg: Generating train data\n",
      "Similarity column 65134 ( 100 % ), 2653.71 column/sec, elapsed time 0.41 min\n",
      "CFW_D_Similarity_Linalg: Collaborative S density: 1.75E-03, nonzero cells 7414519\n",
      "CFW_D_Similarity_Linalg: Content S density: 2.44E-03, nonzero cells 10333526\n",
      "CFW_D_Similarity_Linalg: Generating train data. Sample 43859 ( 0.43 %) \n",
      "CFW_D_Similarity_Linalg: Generating train data. Sample 382211 ( 3.73 %) \n",
      "CFW_D_Similarity_Linalg: Generating train data. Sample 690844 ( 6.74 %) \n",
      "CFW_D_Similarity_Linalg: Generating train data. Sample 997789 ( 9.73 %) \n",
      "CFW_D_Similarity_Linalg: Generating train data. Sample 1252909 ( 12.22 %) \n",
      "CFW_D_Similarity_Linalg: Content S structure has 1226127 out of 10333526 ( 11.87%) nonzero collaborative cells\n",
      "CFW_D_Similarity_Linalg: Nonzero collaborative cell sum is: 1.16E+05, average is: 9.42E-02, average over all collaborative data is 8.66E-02\n",
      "Similarity column 65134 ( 100 % ), 2568.21 column/sec, elapsed time 0.42 min\n",
      "EvaluatorHoldout: Processed 7001 ( 10.37% ) in 30.64 sec. Users per second: 228\n",
      "EvaluatorHoldout: Processed 15001 ( 22.22% ) in 1.02 min. Users per second: 246\n",
      "EvaluatorHoldout: Processed 23001 ( 34.07% ) in 1.54 min. Users per second: 249\n",
      "EvaluatorHoldout: Processed 31001 ( 45.92% ) in 2.06 min. Users per second: 251\n",
      "EvaluatorHoldout: Processed 39001 ( 57.76% ) in 2.57 min. Users per second: 253\n",
      "EvaluatorHoldout: Processed 47001 ( 69.61% ) in 3.11 min. Users per second: 252\n",
      "EvaluatorHoldout: Processed 55001 ( 81.46% ) in 3.66 min. Users per second: 250\n",
      "EvaluatorHoldout: Processed 62001 ( 91.83% ) in 4.21 min. Users per second: 246\n",
      "EvaluatorHoldout: Processed 67517 ( 100.00% ) in 4.58 min. Users per second: 246\n",
      "SearchBayesianSkopt: Config 9 is suboptimal. Config: {'topK': 999, 'add_zeros_quota': 0.007490959275731847, 'normalize_similarity': False} - results: ROC_AUC: 0.0086299, PRECISION: 0.0038331, PRECISION_RECALL_MIN_DEN: 0.0041150, RECALL: 0.0015304, MAP: 0.0017550, MRR: 0.0078319, NDCG: 0.0014527, F1: 0.0021874, HIT_RATE: 0.0191655, ARHR: 0.0079797, RMSE: 6.0605303, NOVELTY: 0.0011036, AVERAGE_POPULARITY: 0.0459589, DIVERSITY_MEAN_INTER_LIST: 0.9199517, DIVERSITY_HERFINDAHL: 0.9839876, COVERAGE_ITEM: 0.0323948, COVERAGE_USER: 0.9433965, DIVERSITY_GINI: 0.0808280, SHANNON_ENTROPY: 7.3412155, \n",
      "\n",
      "Iteration No: 10 ended. Search finished for the next optimal point.\n",
      "Time taken: 477.3921\n",
      "Function value obtained: -0.0018\n",
      "Current minimum: -0.0048\n",
      "SearchBayesianSkopt: Search complete. Best config is 6: {'topK': 7, 'add_zeros_quota': 0.9974822492842776, 'normalize_similarity': False}\n",
      "\n",
      "CFW_D_Similarity_Linalg: URM Detected 1690 (2.36 %) cold users.\n",
      "CFW_D_Similarity_Linalg: URM Detected 54483 (83.65 %) cold items.\n",
      "SearchBayesianSkopt: Evaluation with constructor data for final test. Using best config: {'topK': 7, 'add_zeros_quota': 0.9974822492842776, 'normalize_similarity': False}\n",
      "CFW_D_Similarity_Linalg: Generating train data\n",
      "Similarity column 64993 ( 100 % ), 2165.97 column/sec, elapsed time 0.50 min\n",
      "Similarity column 65134 ( 100 % ), 2164.33 column/sec, elapsed time 0.50 min\n",
      "CFW_D_Similarity_Linalg: Collaborative S density: 1.75E-03, nonzero cells 7414519\n",
      "CFW_D_Similarity_Linalg: Content S density: 1.76E-05, nonzero cells 74753\n",
      "CFW_D_Similarity_Linalg: Generating train data. Sample 0 ( 0.00 %) \n",
      "CFW_D_Similarity_Linalg: Content S structure has 12373 out of 74753 ( 16.55%) nonzero collaborative cells\n",
      "CFW_D_Similarity_Linalg: Nonzero collaborative cell sum is: 1.29E+03, average is: 1.04E-01, average over all collaborative data is 8.66E-02\n",
      "Similarity column 65134 ( 100 % ), 2631.85 column/sec, elapsed time 0.41 min\n",
      "EvaluatorHoldout: Processed 10878 ( 15.58% ) in 30.00 sec. Users per second: 363\n",
      "EvaluatorHoldout: Processed 22001 ( 31.52% ) in 1.03 min. Users per second: 357\n",
      "EvaluatorHoldout: Processed 34001 ( 48.71% ) in 1.54 min. Users per second: 368\n",
      "EvaluatorHoldout: Processed 46001 ( 65.90% ) in 2.05 min. Users per second: 375\n",
      "EvaluatorHoldout: Processed 58001 ( 83.10% ) in 2.56 min. Users per second: 377\n",
      "EvaluatorHoldout: Processed 69799 ( 100.00% ) in 3.05 min. Users per second: 382\n",
      "SearchBayesianSkopt: Best config evaluated with evaluator_test with constructor data for final test. Config: {'topK': 7, 'add_zeros_quota': 0.9974822492842776, 'normalize_similarity': False} - results:\n",
      "CUTOFF: 5 - ROC_AUC: 0.0512483, PRECISION: 0.0230147, PRECISION_RECALL_MIN_DEN: 0.0231379, RECALL: 0.0038727, MAP: 0.0123304, MRR: 0.0490442, NDCG: 0.0058366, F1: 0.0066298, HIT_RATE: 0.1150733, ARHR: 0.0548126, RMSE: 3.7160017, NOVELTY: 0.0010448, AVERAGE_POPULARITY: 0.0796950, DIVERSITY_MEAN_INTER_LIST: 0.9560816, DIVERSITY_HERFINDAHL: 0.9912136, COVERAGE_ITEM: 0.0411306, COVERAGE_USER: 0.9752822, DIVERSITY_GINI: 0.1103389, SHANNON_ENTROPY: 8.2257715, \n",
      "\n",
      "\n"
     ]
    }
   ],
   "source": [
    "recommender_class = CFW_D_Similarity_Linalg\n",
    "\n",
    "parameterSearch = SearchBayesianSkopt(recommender_class,\n",
    "                                 evaluator_validation=evaluator_validation,\n",
    "                                 evaluator_test=evaluator_test)\n",
    "\n",
    "\n",
    "hyperparamethers_range_dictionary = {}\n",
    "hyperparamethers_range_dictionary[\"topK\"] = Integer(5, 1000)\n",
    "hyperparamethers_range_dictionary[\"add_zeros_quota\"] = Real(low = 0, high = 1, prior = 'uniform')\n",
    "hyperparamethers_range_dictionary[\"normalize_similarity\"] = Categorical([True, False])\n",
    "\n",
    "\n",
    "recommender_input_args = SearchInputRecommenderArgs(\n",
    "    CONSTRUCTOR_POSITIONAL_ARGS = [URM_train, ICM_genres, W_sparse_CF],\n",
    "    CONSTRUCTOR_KEYWORD_ARGS = {},\n",
    "    FIT_POSITIONAL_ARGS = [],\n",
    "    FIT_KEYWORD_ARGS = {}\n",
    ")\n",
    "\n",
    "\n",
    "output_folder_path = \"result_experiments/\"\n",
    "\n",
    "import os\n",
    "\n",
    "# If directory does not exist, create\n",
    "if not os.path.exists(output_folder_path):\n",
    "    os.makedirs(output_folder_path)\n",
    "\n",
    "n_cases = 10\n",
    "metric_to_optimize = \"MAP\"\n",
    "\n",
    "\n",
    "\n",
    "# Clone data structure to perform the fitting with the best hyperparameters on train + validation data\n",
    "recommender_input_args_last_test = recommender_input_args.copy()\n",
    "recommender_input_args_last_test.CONSTRUCTOR_POSITIONAL_ARGS[0] = URM_train + URM_validation\n",
    "\n",
    "\n",
    "parameterSearch.search(recommender_input_args,\n",
    "                       recommender_input_args_last_test = recommender_input_args_last_test,\n",
    "                       parameter_search_space = hyperparameters_range_dictionary,\n",
    "                       n_cases = n_cases,\n",
    "                       n_random_starts = int(n_cases/3),\n",
    "                       save_model = \"no\",\n",
    "                       output_folder_path = output_folder_path,\n",
    "                       output_file_name_root = recommender_class.RECOMMENDER_NAME,\n",
    "                       metric_to_optimize = metric_to_optimize\n",
    "                      )\n"
   ]
  },
  {
   "cell_type": "markdown",
   "metadata": {},
   "source": [
    "### Here the best solution has a MAP of 0.0123... not great"
   ]
  },
  {
   "cell_type": "markdown",
   "metadata": {},
   "source": [
    "### Since we are weighting features, and weights can be applied only to common features, we may expect a sparse ICM to have limited quality gains because the items will tend to have few features in common and so only few parameters that can be learned. A more dense ICM may exhibit much higher improvements due to more common features and model parameters, however, very different items may have the same features in common, choking the model.\n",
    "\n",
    "## Improvements of CF+CBF greatly depend on the ICM structure and collaborative data distribution...\n",
    "\n",
    "## Tip:\n",
    "### If your ICM is very sparse and you get poor results, you may try to aggregate features (e.g., put them in OR, add them...) to reduce their number and get a new denser ICM on which to try feature weighting"
   ]
  },
  {
   "cell_type": "code",
   "execution_count": null,
   "metadata": {},
   "outputs": [],
   "source": []
  }
 ],
 "metadata": {
  "kernelspec": {
   "display_name": "Python 3",
   "language": "python",
   "name": "python3"
  },
  "language_info": {
   "codemirror_mode": {
    "name": "ipython",
    "version": 3
   },
   "file_extension": ".py",
   "mimetype": "text/x-python",
   "name": "python",
   "nbconvert_exporter": "python",
   "pygments_lexer": "ipython3",
   "version": "3.6.8"
  }
 },
 "nbformat": 4,
 "nbformat_minor": 2
}
